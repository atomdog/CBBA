{
 "cells": [
  {
   "cell_type": "markdown",
   "metadata": {},
   "source": [
    "# Prototype Visuals"
   ]
  },
  {
   "cell_type": "markdown",
   "metadata": {},
   "source": [
    "## Other Data Leads\n",
    "### Found via WokeWindows\n",
    "- [Paid Detail Datasets](https://www.muckrock.com/foi/boston-3/2019-paid-detail-cards-95919/)\n",
    "- [Traffic Citations](https://github.com/nstory/boston_pd_citations) "
   ]
  },
  {
   "cell_type": "markdown",
   "metadata": {},
   "source": [
    "## Acquisition pre-req"
   ]
  },
  {
   "cell_type": "code",
   "execution_count": 42,
   "metadata": {},
   "outputs": [],
   "source": [
    "import requests\n",
    "#parameters: none\n",
    "#returns: a dictionary, with plaintext keys corresponding to the resource ID\n",
    "#notes: the resource ID is data.boston.gov 's internal identifier for datasets\n",
    "def getSourceDict():\n",
    "    sources = {\"CRIMEINCIDENTREPORTS_2022\": \"313e56df-6d77-49d2-9c49-ee411f10cf58\",\n",
    "                \"CRIMEINCIDENTREPORTS_2021\": \"f4495ee9-c42c-4019-82c1-d067f07e45d2\",\n",
    "                \"CRIMEINCIDENTREPORTS_2020\": \"be047094-85fe-4104-a480-4fa3d03f9623\",\n",
    "                \"CRIMEINCIDENTREPORTS_2019\": \"34e0ae6b-8c94-4998-ae9e-1b51551fe9ba\",\n",
    "                \"CRIMEINCIDENTREPORTS_2018\": \"e86f8e38-a23c-4c1a-8455-c8f94210a8f1\",\n",
    "                \"SHOOTINGS\": \"313e56df-6d77-49d2-9c49-ee411f10cf58\",\n",
    "                \"SHOTSFIRED\": \"e16705ca-49ce-4803-84c1-c9848aa63024\",\n",
    "                \"FIELDINTERROGATION_2020\": \"64dd32d9-26f9-4275-9265-97fa3de7e22b\",\n",
    "                \"FIELDINTERROGATION_2019\": \"03f33240-47c1-46f2-87ae-bcdabec092ad\",\n",
    "                \"FIELDINTERROGATION_2016\": \"35f3fb8f-4a01-4242-9758-f664e7ead125\",\n",
    "                \"FIREARM_RECOVERY\": \"a3d2260f-8a41-4e95-9134-d14711b0f954\",\n",
    "                \"EARNINGS_2021\": \"ec5aaf93-1509-4641-9310-28e62e028457\",\n",
    "                \"EARNINGS_2020\": \"e2e2c23a-6fc7-4456-8751-5321d8aa869b\",\n",
    "                \"EARNINGS_2019\": \"3bdfe6dc-3a81-49ce-accc-22161e2f7e74\",\n",
    "                \"EARNINGS_2018\": \"31358fd1-849a-48e0-8285-e813f6efbdf1\",\n",
    "                \"EARNINGS_2017\": \"70129b87-bd4e-49bb-aa09-77644da73503\",\n",
    "                \"EARNINGS_2016\": \"8368bd3d-3633-4927-8355-2a2f9811ab4f\",\n",
    "                \"EARNINGS_2015\": \"2ff6343f-850d-46e7-98d1-aca79b619fd6\",\n",
    "                \"EARNINGS_2014\": \"941c9de4-fb91-41bb-ad5a-43a35f5dc80f\",\n",
    "                \"EARNINGS_2013\": \"fac6a421-72fb-4f85-b4ac-4aca1e32d94e\",\n",
    "                \"EARNINGS_2012\": \"d96dd8ad-9396-484a-87af-4d15e9e2ccb2\",\n",
    "                \"EARNINGS_2011\": \"a861eff8-facc-4372-9b2d-262c2887b19e\",\n",
    "                \"CHECKBOOK_2022\": \"0a261d4e-3eec-4bac-bf72-b9a7aa77b033\",\n",
    "                \"CHECKBOOK_2021\": \"32897eeb-d9ca-494f-93b1-991c50bcd6a6\"\n",
    "                }\n",
    "    return(sources)\n",
    "\n",
    "#parameters: the plaintext name of the source you'd like to get the resource ID for\n",
    "#returns: a string with the resource ID corresponding to your parameter\n",
    "def sourcetorid(sourcename):\n",
    "    rid = getSourceDict()[sourcename]\n",
    "    return(rid)\n",
    "#parameters: none\n",
    "#returns: a list of all selectable sources in the source dictionary\n",
    "def list_sources():\n",
    "    sourcelist=[]\n",
    "    q = getSourceDict()\n",
    "    for key in q:\n",
    "        sourcelist.append(key)\n",
    "    return(sourcelist)\n",
    "#parameters: the resource id, and an integer; n\n",
    "#returns: the response from the database at resource id rid, including only the first n entries\n",
    "#notes: resource id, int n -> json (results which are the first n)\n",
    "def n_recent(rid, n):\n",
    "    r = requests.get(\"https://data.boston.gov/api/3/action/datastore_search?resource_id=\"+rid+\"&limit=\"+str(n))\n",
    "    return(r.json())\n",
    "\n",
    "#parameters: the resource id, and a string; n\n",
    "#returns: the response from the database at resource id rid, including only the entries which contain string n\n",
    "#notes: resource id, string n -> json (results which are those which contain n)\n",
    "def n_contained(rid, n):\n",
    "    r = requests.get(\"https://data.boston.gov/api/3/action/datastore_search?resource_id=\"+rid+\"&q=\"+str(n))\n",
    "    return(r.json())\n",
    "\n",
    "#parameters: the resource id, an integer; and an integer; n\n",
    "#returns: the response from the database at resource id rid, including only r entries after index n\n",
    "#notes: resource id, int r (the number of results to return), int n (the starting index) -> json (results which start at n, go to n+r)\n",
    "def n_skip(rid, r, n):\n",
    "    r = requests.get(\"https://data.boston.gov/api/3/action/datastore_search?resource_id=\"+rid+\"$top=\",r,\"&$skip=\",n)\n",
    "    return(r.json())\n",
    "#parameters: a json returned by a request function such as n_recent, n_contained, and n_skip\n",
    "#returns: the field names of the same json\n",
    "#notes: request json -> list of fields in the result w/ types and names\n",
    "def return_fields(returnedjson):\n",
    "    return(returnedjson['result']['fields'])\n",
    "\n",
    "#parameters: a json returned by a request function such as n_recent, n_contained, and n_skip\n",
    "#returns: the same json, stripped of metadata\n",
    "#notes: request result -> nice format to parse\n",
    "def eat_result(eson):\n",
    "    re = eson['result']['records']\n",
    "    return(re)\n"
   ]
  },
  {
   "cell_type": "markdown",
   "metadata": {},
   "source": [
    "## Earnings Acquisition Setup"
   ]
  },
  {
   "cell_type": "code",
   "execution_count": 43,
   "metadata": {
    "scrolled": true
   },
   "outputs": [],
   "source": [
    "#selecting the plaintext names of our desired database\n",
    "sourcenames = list_sources()\n",
    "available_earnings = []\n",
    "\n",
    "for x in range(0, len(sourcenames)):\n",
    "    if(sourcenames[x].split(\"_\")[0]==\"EARNINGS\"):\n",
    "        available_earnings.append(sourcenames[x])\n",
    "\n",
    "earnings_rids = []\n",
    "for x in range(0, len(available_earnings)):\n",
    "    earnings_rids.append(sourcetorid(available_earnings[x]))\n",
    "\n",
    "earnings_fields = []\n",
    "for x in range(0, len(earnings_rids)):\n",
    "    #print(n_recent(earnings_rids[x], 1))\n",
    "    earnings_fields.append(return_fields(n_recent(earnings_rids[x], 1)))\n"
   ]
  },
  {
   "cell_type": "markdown",
   "metadata": {},
   "source": [
    "## Earnings Data Formatting"
   ]
  },
  {
   "cell_type": "code",
   "execution_count": 44,
   "metadata": {},
   "outputs": [
    {
     "name": "stdout",
     "output_type": "stream",
     "text": [
      "======== EARNINGS_2021\n",
      "-- RID: ec5aaf93-1509-4641-9310-28e62e028457\n",
      "-- FIELDS: 13\n",
      "--- {'type': 'int', 'id': '_id'}\n",
      "--- {'type': 'text', 'id': 'NAME'}\n",
      "--- {'type': 'text', 'id': 'DEPARTMENT_NAME'}\n",
      "--- {'type': 'text', 'id': 'TITLE'}\n",
      "--- {'type': 'text', 'id': 'REGULAR'}\n",
      "--- {'type': 'text', 'id': 'RETRO'}\n",
      "--- {'type': 'text', 'id': 'OTHER'}\n",
      "--- {'type': 'text', 'id': 'OVERTIME'}\n",
      "--- {'type': 'text', 'id': 'INJURED'}\n",
      "--- {'type': 'text', 'id': 'DETAIL'}\n",
      "--- {'type': 'text', 'id': 'QUINN_EDUCATION_INCENTIVE'}\n",
      "--- {'type': 'text', 'id': 'TOTAL_GROSS'}\n",
      "--- {'type': 'text', 'id': 'POSTAL'}\n",
      "======== EARNINGS_2020\n",
      "-- RID: e2e2c23a-6fc7-4456-8751-5321d8aa869b\n",
      "-- FIELDS: 13\n",
      "--- {'type': 'int', 'id': '_id'}\n",
      "--- {'type': 'text', 'id': 'NAME'}\n",
      "--- {'type': 'text', 'id': 'DEPARTMENT_NAME'}\n",
      "--- {'type': 'text', 'id': 'TITLE'}\n",
      "--- {'type': 'text', 'id': 'REGULAR'}\n",
      "--- {'type': 'text', 'id': 'RETRO'}\n",
      "--- {'type': 'text', 'id': 'OTHER'}\n",
      "--- {'type': 'text', 'id': 'OVERTIME'}\n",
      "--- {'type': 'text', 'id': 'INJURED'}\n",
      "--- {'type': 'text', 'id': 'DETAIL'}\n",
      "--- {'type': 'text', 'id': 'QUINN / EDUCATION INCENTIVE'}\n",
      "--- {'type': 'text', 'id': 'TOTAL EARNINGS'}\n",
      "--- {'type': 'text', 'id': 'POSTAL'}\n",
      "======== EARNINGS_2019\n",
      "-- RID: 3bdfe6dc-3a81-49ce-accc-22161e2f7e74\n",
      "-- FIELDS: 13\n",
      "--- {'type': 'int', 'id': '_id'}\n",
      "--- {'type': 'text', 'id': 'NAME'}\n",
      "--- {'type': 'text', 'id': 'DEPARTMENT_NAME'}\n",
      "--- {'type': 'text', 'id': 'TITLE'}\n",
      "--- {'type': 'text', 'id': 'REGULAR'}\n",
      "--- {'type': 'text', 'id': 'RETRO'}\n",
      "--- {'type': 'text', 'id': 'OTHER'}\n",
      "--- {'type': 'text', 'id': 'OVERTIME'}\n",
      "--- {'type': 'text', 'id': 'INJURED'}\n",
      "--- {'type': 'text', 'id': 'DETAIL'}\n",
      "--- {'type': 'text', 'id': 'QUINN/EDUCATION INCENTIVE'}\n",
      "--- {'type': 'text', 'id': 'TOTAL EARNINGS'}\n",
      "--- {'type': 'text', 'id': 'POSTAL'}\n",
      "======== EARNINGS_2018\n",
      "-- RID: 31358fd1-849a-48e0-8285-e813f6efbdf1\n",
      "-- FIELDS: 13\n",
      "--- {'type': 'int', 'id': '_id'}\n",
      "--- {'type': 'text', 'id': 'NAME'}\n",
      "--- {'type': 'text', 'id': 'DEPARTMENT_NAME'}\n",
      "--- {'type': 'text', 'id': 'TITLE'}\n",
      "--- {'type': 'text', 'id': 'REGULAR'}\n",
      "--- {'type': 'text', 'id': 'RETRO'}\n",
      "--- {'type': 'text', 'id': 'OTHER'}\n",
      "--- {'type': 'text', 'id': 'OVERTIME'}\n",
      "--- {'type': 'text', 'id': 'INJURED'}\n",
      "--- {'type': 'text', 'id': 'DETAIL'}\n",
      "--- {'type': 'text', 'id': 'QUINN/EDUCATION INCENTIVE'}\n",
      "--- {'type': 'text', 'id': 'TOTAL EARNINGS'}\n",
      "--- {'type': 'text', 'id': 'POSTAL'}\n",
      "======== EARNINGS_2017\n",
      "-- RID: 70129b87-bd4e-49bb-aa09-77644da73503\n",
      "-- FIELDS: 13\n",
      "--- {'type': 'int', 'id': '_id'}\n",
      "--- {'info': {'type_override': {}}, 'type': 'text', 'id': 'NAME'}\n",
      "--- {'info': {'type_override': {}}, 'type': 'text', 'id': 'DEPARTMENT NAME'}\n",
      "--- {'info': {'type_override': {}}, 'type': 'text', 'id': 'TITLE'}\n",
      "--- {'info': {'type_override': {}}, 'type': 'text', 'id': 'REGULAR'}\n",
      "--- {'info': {'type_override': {}}, 'type': 'text', 'id': 'RETRO'}\n",
      "--- {'info': {'type_override': {}}, 'type': 'text', 'id': 'OTHER'}\n",
      "--- {'info': {'type_override': {}}, 'type': 'text', 'id': 'OVERTIME'}\n",
      "--- {'info': {'type_override': {}}, 'type': 'text', 'id': 'INJURED'}\n",
      "--- {'info': {'type_override': {}}, 'type': 'text', 'id': 'DETAIL'}\n",
      "--- {'info': {'type_override': {}}, 'type': 'text', 'id': 'QUINN/EDUCATION INCENTIVE'}\n",
      "--- {'info': {'type_override': {}}, 'type': 'text', 'id': 'TOTAL EARNINGS'}\n",
      "--- {'info': {'type_override': {}}, 'type': 'text', 'id': 'POSTAL'}\n",
      "======== EARNINGS_2016\n",
      "-- RID: 8368bd3d-3633-4927-8355-2a2f9811ab4f\n",
      "-- FIELDS: 13\n",
      "--- {'type': 'int', 'id': '_id'}\n",
      "--- {'info': {'notes': '', 'label': ''}, 'type': 'text', 'id': 'NAME'}\n",
      "--- {'info': {'notes': '', 'label': ''}, 'type': 'text', 'id': 'DEPARTMENT_NAME'}\n",
      "--- {'info': {'notes': '', 'label': ''}, 'type': 'text', 'id': 'TITLE'}\n",
      "--- {'info': {'notes': '', 'label': ''}, 'type': 'text', 'id': 'REGULAR'}\n",
      "--- {'info': {'notes': '', 'label': ''}, 'type': 'text', 'id': 'RETRO'}\n",
      "--- {'info': {'notes': '', 'label': ''}, 'type': 'text', 'id': 'OTHER'}\n",
      "--- {'info': {'notes': '', 'label': ''}, 'type': 'text', 'id': 'OVERTIME'}\n",
      "--- {'info': {'notes': '', 'label': ''}, 'type': 'text', 'id': 'INJURED'}\n",
      "--- {'info': {'notes': '', 'label': ''}, 'type': 'text', 'id': 'DETAIL'}\n",
      "--- {'info': {'notes': '', 'label': ''}, 'type': 'text', 'id': 'QUINN/EDUCATION INCENTIVE'}\n",
      "--- {'info': {'notes': '', 'label': ''}, 'type': 'text', 'id': 'TOTAL EARNINGS'}\n",
      "--- {'info': {'notes': 'USPS (United States Postal Service) assigned code according to the Zone Improvement Plan.', 'label': 'ZIP Code'}, 'type': 'text', 'id': 'POSTAL'}\n",
      "======== EARNINGS_2015\n",
      "-- RID: 2ff6343f-850d-46e7-98d1-aca79b619fd6\n",
      "-- FIELDS: 13\n",
      "--- {'type': 'int', 'id': '_id'}\n",
      "--- {'info': {'type_override': {}}, 'type': 'text', 'id': 'NAME'}\n",
      "--- {'info': {'type_override': {}}, 'type': 'text', 'id': 'DEPARTMENT_NAME'}\n",
      "--- {'info': {'type_override': {}}, 'type': 'text', 'id': 'TITLE'}\n",
      "--- {'info': {'type_override': {}}, 'type': 'text', 'id': 'REGULAR'}\n",
      "--- {'info': {'type_override': {}}, 'type': 'text', 'id': 'RETRO'}\n",
      "--- {'info': {'type_override': {}}, 'type': 'text', 'id': 'OTHER'}\n",
      "--- {'info': {'type_override': {}}, 'type': 'text', 'id': 'OVERTIME'}\n",
      "--- {'info': {'type_override': {}}, 'type': 'text', 'id': 'INJURED'}\n",
      "--- {'info': {'type_override': {}}, 'type': 'text', 'id': 'DETAILS'}\n",
      "--- {'info': {'type_override': {}}, 'type': 'text', 'id': 'QUINN/EDUCATION INCENTIVE'}\n",
      "--- {'info': {'type_override': {}}, 'type': 'text', 'id': 'TOTAL EARNINGS'}\n",
      "--- {'info': {'type_override': {}}, 'type': 'text', 'id': 'POSTAL'}\n",
      "======== EARNINGS_2014\n",
      "-- RID: 941c9de4-fb91-41bb-ad5a-43a35f5dc80f\n",
      "-- FIELDS: 13\n",
      "--- {'type': 'int', 'id': '_id'}\n",
      "--- {'info': {'type_override': {}}, 'type': 'text', 'id': 'NAME'}\n",
      "--- {'info': {'type_override': {}}, 'type': 'text', 'id': 'TITLE'}\n",
      "--- {'info': {'type_override': {}}, 'type': 'text', 'id': 'DEPARTMENT NAME'}\n",
      "--- {'info': {'type_override': {}}, 'type': 'text', 'id': 'REGULAR'}\n",
      "--- {'info': {'type_override': {}}, 'type': 'text', 'id': 'RETRO'}\n",
      "--- {'info': {'type_override': {}}, 'type': 'text', 'id': 'OTHER'}\n",
      "--- {'info': {'type_override': {}}, 'type': 'text', 'id': 'OVERTIME'}\n",
      "--- {'info': {'type_override': {}}, 'type': 'text', 'id': 'INJURED'}\n",
      "--- {'info': {'type_override': {}}, 'type': 'text', 'id': 'DETAIL'}\n",
      "--- {'info': {'type_override': {}}, 'type': 'text', 'id': 'QUINN'}\n",
      "--- {'info': {'type_override': {}}, 'type': 'text', 'id': 'TOTAL EARNINGS'}\n",
      "--- {'info': {'type_override': {}}, 'type': 'text', 'id': 'ZIP'}\n",
      "======== EARNINGS_2013\n",
      "-- RID: fac6a421-72fb-4f85-b4ac-4aca1e32d94e\n",
      "-- FIELDS: 13\n",
      "--- {'type': 'int', 'id': '_id'}\n",
      "--- {'info': {'type_override': {}}, 'type': 'text', 'id': 'NAME'}\n",
      "--- {'info': {'type_override': {}}, 'type': 'text', 'id': 'TITLE'}\n",
      "--- {'info': {'type_override': {}}, 'type': 'text', 'id': 'DEPARTMENT'}\n",
      "--- {'info': {'type_override': {}}, 'type': 'text', 'id': 'REGULAR'}\n",
      "--- {'info': {'type_override': {}}, 'type': 'text', 'id': 'RETRO'}\n",
      "--- {'info': {'type_override': {}}, 'type': 'text', 'id': 'OTHER'}\n",
      "--- {'info': {'type_override': {}}, 'type': 'text', 'id': 'OVERTIME'}\n",
      "--- {'info': {'type_override': {}}, 'type': 'text', 'id': 'INJURED'}\n",
      "--- {'info': {'type_override': {}}, 'type': 'text', 'id': 'DETAIL'}\n",
      "--- {'info': {'type_override': {}}, 'type': 'text', 'id': 'QUINN'}\n",
      "--- {'info': {'type_override': {}}, 'type': 'text', 'id': 'TOTAL EARNINGS'}\n",
      "--- {'info': {'type_override': {}}, 'type': 'text', 'id': 'ZIP'}\n",
      "======== EARNINGS_2012\n",
      "-- RID: d96dd8ad-9396-484a-87af-4d15e9e2ccb2\n",
      "-- FIELDS: 13\n",
      "--- {'type': 'int', 'id': '_id'}\n",
      "--- {'info': {'type_override': {}}, 'type': 'text', 'id': 'NAME'}\n",
      "--- {'info': {'type_override': {}}, 'type': 'text', 'id': 'DEPARTMENT'}\n",
      "--- {'info': {'type_override': {}}, 'type': 'text', 'id': 'TITLE'}\n",
      "--- {'info': {'type_override': {}}, 'type': 'text', 'id': 'REGULAR'}\n",
      "--- {'info': {'type_override': {}}, 'type': 'text', 'id': 'RETRO'}\n",
      "--- {'info': {'type_override': {}}, 'type': 'text', 'id': 'OTHER'}\n",
      "--- {'info': {'type_override': {}}, 'type': 'text', 'id': 'OVERTIME'}\n",
      "--- {'info': {'type_override': {}}, 'type': 'text', 'id': 'INJURED'}\n",
      "--- {'info': {'type_override': {}}, 'type': 'text', 'id': 'DETAIL'}\n",
      "--- {'info': {'type_override': {}}, 'type': 'text', 'id': 'QUINN'}\n",
      "--- {'info': {'type_override': {}}, 'type': 'text', 'id': 'TOTAL EARNINGS'}\n",
      "--- {'info': {'type_override': {}}, 'type': 'text', 'id': 'ZIP'}\n",
      "======== EARNINGS_2011\n",
      "-- RID: a861eff8-facc-4372-9b2d-262c2887b19e\n",
      "-- FIELDS: 13\n",
      "--- {'type': 'int', 'id': '_id'}\n",
      "--- {'info': {'type_override': {}}, 'type': 'text', 'id': 'Name'}\n",
      "--- {'info': {'type_override': {}}, 'type': 'text', 'id': 'Department Name'}\n",
      "--- {'info': {'type_override': {}}, 'type': 'text', 'id': 'Title'}\n",
      "--- {'info': {'type_override': {}}, 'type': 'text', 'id': 'Regular'}\n",
      "--- {'info': {'type_override': {}}, 'type': 'text', 'id': 'Retro'}\n",
      "--- {'info': {'type_override': {}}, 'type': 'text', 'id': 'Other'}\n",
      "--- {'info': {'type_override': {}}, 'type': 'text', 'id': 'Overtime'}\n",
      "--- {'info': {'type_override': {}}, 'type': 'text', 'id': 'Injured'}\n",
      "--- {'info': {'type_override': {}}, 'type': 'text', 'id': 'Detail'}\n",
      "--- {'info': {'type_override': {}}, 'type': 'text', 'id': 'Quinn'}\n",
      "--- {'info': {'type_override': {}}, 'type': 'text', 'id': 'Total Earnings'}\n",
      "--- {'info': {'type_override': {}}, 'type': 'text', 'id': 'Zip Code'}\n"
     ]
    }
   ],
   "source": [
    "for x in range(0, len(earnings_fields)):\n",
    "    print(\"======== \"+ available_earnings[x])\n",
    "    print(\"-- RID: \" + earnings_rids[x])\n",
    "    print(\"-- FIELDS: \" + str(len(earnings_fields[x])))\n",
    "    for y in range(0, len(earnings_fields[x])):\n",
    "        print(\"--- \" +str(earnings_fields[x][y]))\n",
    "    \n"
   ]
  },
  {
   "cell_type": "markdown",
   "metadata": {},
   "source": [
    "## Earnings Requests"
   ]
  },
  {
   "cell_type": "code",
   "execution_count": 51,
   "metadata": {},
   "outputs": [],
   "source": [
    "earnings_data = []\n",
    "for x in range(0, len(earnings_rids)):\n",
    "    earnings_data.append(eat_result(n_recent(earnings_rids[x], 1000000000)))"
   ]
  },
  {
   "cell_type": "markdown",
   "metadata": {},
   "source": [
    "## Earnings Names"
   ]
  },
  {
   "cell_type": "code",
   "execution_count": 133,
   "metadata": {},
   "outputs": [
    {
     "name": "stdout",
     "output_type": "stream",
     "text": [
      "243871\n"
     ]
    }
   ],
   "source": [
    "import pandas as pd\n",
    "years = {}\n",
    "\n",
    "find_list = [\"department\", \"name\", \"title\", \"regular\", \"overtime\", \"detail\", \"retro\", \"injured\", \"quinn\", \"other\",\"total\"]\n",
    "\n",
    "dictionaries = []\n",
    "#our_dataframe = pd.DataFrame(data=our_array, columns=columns)\n",
    "\n",
    "for item in range(0, len(earnings_data)):\n",
    "   \n",
    "    year = available_earnings[item].split(\"_\")[1]   \n",
    "    for entry in range(0, len(earnings_data[item])):\n",
    "        current_entry = earnings_data[item][entry]\n",
    "        parsed_dict = {}\n",
    "        \n",
    "        for key in current_entry:\n",
    "            kv = \"key\"\n",
    "            for x in range(0,len(find_list)):\n",
    "                if(find_list[x] in key.lower()):\n",
    "                    if(x==1 and \"department\" not in key.lower()):\n",
    "                        kv = \"name\"\n",
    "                    elif(x==1 and \"department\" in key.lower()):\n",
    "                        kv = \"department\"\n",
    "                    else:\n",
    "                        kv = find_list[x]\n",
    "                parsed_dict[kv] = str(current_entry[key]).replace(\",\",\"\").replace(\"-\",\"0\").replace(\"$\",\"\").replace(\"None\",\"0\")\n",
    "        parsed_dict[\"year\"] = year\n",
    "        dictionaries.append(parsed_dict)\n",
    "\n",
    "print(len(dictionaries))\n",
    "\n"
   ]
  },
  {
   "cell_type": "code",
   "execution_count": 134,
   "metadata": {},
   "outputs": [
    {
     "name": "stdout",
     "output_type": "stream",
     "text": [
      "   year                department                  name  \\\n",
      "0  2021  Boston Police Department        BeckersRichard   \n",
      "1  2021  Boston Police Department  McGowanJacqueline M.   \n",
      "2  2021  Boston Police Department         HarrisShawn N   \n",
      "3  2021  Boston Police Department      WashingtonWalter   \n",
      "4  2021  Boston Police Department      Mosley Jr.Curtis   \n",
      "\n",
      "                           title    regular  overtime    detail retro  \\\n",
      "0                 Police Officer          0         0         0     0   \n",
      "1                 Police Officer          0         0         0     0   \n",
      "2  Police Offc Comm Serv Offc 38   69772.10  82300.87  12144.00     0   \n",
      "3                 Police Officer  100963.38  67849.66   9016.00     0   \n",
      "4  Police Offc Comm Serv Offc 38  109858.02  75938.65  19550.00     0   \n",
      "\n",
      "    injured     quinn       other       total  \n",
      "0         0         0  1264843.63  1264843.63  \n",
      "1         0         0  1252990.81  1252990.81  \n",
      "2  30939.24  25178.06   212739.48   433073.75  \n",
      "3         0  10096.55   211900.28   399825.87  \n",
      "4         0         0   192097.54   397444.21  \n"
     ]
    }
   ],
   "source": [
    "our_dataframe = pd.DataFrame(data=dictionaries,columns=[\"year\"]+find_list)\n",
    "print(our_dataframe.head())"
   ]
  },
  {
   "cell_type": "markdown",
   "metadata": {},
   "source": [
    "## Breaking Down (X: Time, Y: Total, Color: Department)\n"
   ]
  },
  {
   "cell_type": "code",
   "execution_count": null,
   "metadata": {},
   "outputs": [
    {
     "name": "stdout",
     "output_type": "stream",
     "text": [
      "6.631374784209684% \n",
      "16172 of 243871\n"
     ]
    }
   ],
   "source": [
    "from IPython.display import clear_output, display\n",
    "\n",
    "x_axis = our_dataframe[\"year\"]\n",
    "y_axis = our_dataframe[\"total\"]\n",
    "departments = our_dataframe[\"department\"]\n",
    "assert len(x_axis)==len(y_axis)\n",
    "assert len(x_axis)==len(departments)\n",
    "assert len(y_axis)==len(departments)\n",
    "\n",
    "points = []\n",
    "indexed = min([len(departments), len(y_axis), len(x_axis)])\n",
    "print(indexed)\n",
    "print(\"/r\")\n",
    "for z in range(0, indexed):\n",
    "    clear_output(wait=True)\n",
    "    print(str((z / indexed)*100)+\"% \"+'\\n'+ str(z)+\" of \" + str(indexed))\n",
    "    x_axis[x] = int(x_axis[z])\n",
    "    y_axis[y] = float(y_axis[z])\n",
    "    points.append([x_axis[z], y_axis[z], departments[z]])\n",
    "    \n",
    "clear_output(wait=False)\n",
    "our_cleaned_dataframe = pd.DataFrame(data=points,columns=[\"year\", \"total\", \"department\"])\n",
    "print(our_cleaned_dataframe.head())\n"
   ]
  },
  {
   "cell_type": "markdown",
   "metadata": {},
   "source": [
    "### Plotting"
   ]
  },
  {
   "cell_type": "code",
   "execution_count": null,
   "metadata": {},
   "outputs": [],
   "source": [
    "import seaborn as sns\n",
    "import matplotlib.pyplot as plt\n",
    "\n",
    "plt.ticklabel_format(style='plain', axis='y')\n",
    "plt.xticks(rotation=90)\n",
    "sns.set(rc = {'figure.figsize':(65,40)})\n",
    "sns.set(font_scale = 6)\n",
    "sns.scatterplot(data=our_cleaned_dataframe, x=\"year\", y=\"total\", hue=\"department\",legend = True, s=150)\n",
    "plt.show()"
   ]
  },
  {
   "cell_type": "markdown",
   "metadata": {},
   "source": [
    "## Breaking Down (X: Time, Y: Overtime, Color: Department)\n"
   ]
  },
  {
   "cell_type": "code",
   "execution_count": null,
   "metadata": {},
   "outputs": [],
   "source": []
  }
 ],
 "metadata": {
  "kernelspec": {
   "display_name": "Python 3",
   "language": "python",
   "name": "python3"
  },
  "language_info": {
   "codemirror_mode": {
    "name": "ipython",
    "version": 3
   },
   "file_extension": ".py",
   "mimetype": "text/x-python",
   "name": "python",
   "nbconvert_exporter": "python",
   "pygments_lexer": "ipython3",
   "version": "3.8.5"
  }
 },
 "nbformat": 4,
 "nbformat_minor": 4
}
