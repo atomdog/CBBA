{
 "cells": [
  {
   "cell_type": "markdown",
   "metadata": {},
   "source": [
    "# Process notes"
   ]
  },
  {
   "cell_type": "markdown",
   "metadata": {},
   "source": [
    "## Data sources"
   ]
  },
  {
   "cell_type": "markdown",
   "metadata": {},
   "source": [
    "### AnalyzeBoston\n",
    "[AnalyzeBoston](https://data.boston.gov/) has over 200 datasets pertaining to the city, varying in topic, size, and update frequency. \n",
    "While downloading a .csv manually works, some datasets are updated frequently enough that downloads may become stale. However, an API endpoint is accessible that allows for up-to-date access.\n",
    "\n",
    "- In regards to this project, there are a few core datasets:\n",
    "    - [Employee Earnings Reports](https://data.boston.gov/dataset/employee-earnings-report) *(static by year)*\n",
    "    \n",
    "    - [Field Interrogation and Observation Data](https://data.boston.gov/dataset/boston-police-department-fio) *(updated weekly)*\n",
    "    \n",
    "    - [Checkbook Explorer](https://data.boston.gov/dataset/checkbook-explorer) *(updated monthly)*\n",
    "    \n",
    "    - [Crime Incident Reports](https://data.boston.gov/dataset/crime-incident-reports-august-2015-to-date-source-new-system) *(updated daily)*\n",
    "    \n",
    "#### Analyze Boston API\n",
    "- Each database is represented using a resource ID formatted as;\n",
    "  - xxxxxxxx-xxxx-xxxx-xxxx-xxxxxxxxxxxx\n",
    "- Below is a function which returns a dictionary of some relevant ones.\n"
   ]
  },
  {
   "cell_type": "code",
   "execution_count": 2,
   "metadata": {},
   "outputs": [],
   "source": [
    "def getSourceDict():\n",
    "    sources = {\"CRIMEINCIDENTREPORTS_2022\": \"313e56df-6d77-49d2-9c49-ee411f10cf58\",\n",
    "                \"CRIMEINCIDENTREPORTS_2021\": \"f4495ee9-c42c-4019-82c1-d067f07e45d2\",\n",
    "                \"CRIMEINCIDENTREPORTS_2020\": \"be047094-85fe-4104-a480-4fa3d03f9623\",\n",
    "                \"CRIMEINCIDENTREPORTS_2019\": \"34e0ae6b-8c94-4998-ae9e-1b51551fe9ba\",\n",
    "                \"CRIMEINCIDENTREPORTS_2018\": \"e86f8e38-a23c-4c1a-8455-c8f94210a8f1\",\n",
    "                \"SHOOTINGS\": \"313e56df-6d77-49d2-9c49-ee411f10cf58\",\n",
    "                \"SHOTSFIRED\": \"e16705ca-49ce-4803-84c1-c9848aa63024\",\n",
    "                \"FIELDINTERROGATION_2020\": \"64dd32d9-26f9-4275-9265-97fa3de7e22b\",\n",
    "                \"FIELDINTERROGATION_2019\": \"03f33240-47c1-46f2-87ae-bcdabec092ad\",\n",
    "                \"FIELDINTERROGATION_2016\": \"35f3fb8f-4a01-4242-9758-f664e7ead125\",\n",
    "                \"FIREARM_RECOVERY\": \"a3d2260f-8a41-4e95-9134-d14711b0f954\",\n",
    "                \"EARNINGS_2021\": \"ec5aaf93-1509-4641-9310-28e62e028457\",\n",
    "                \"EARNINGS_2020\": \"e2e2c23a-6fc7-4456-8751-5321d8aa869b\",\n",
    "                \"EARNINGS_2019\": \"3bdfe6dc-3a81-49ce-accc-22161e2f7e74\",\n",
    "                \"EARNINGS_2018\": \"31358fd1-849a-48e0-8285-e813f6efbdf1\",\n",
    "                \"CHECKBOOK_2022\": \"0a261d4e-3eec-4bac-bf72-b9a7aa77b033\",\n",
    "                \"CHECKBOOK_2021\": \"32897eeb-d9ca-494f-93b1-991c50bcd6a6\"\n",
    "                }\n",
    "    return(sources)"
   ]
  },
  {
   "cell_type": "markdown",
   "metadata": {},
   "source": [
    "- Using the [requests](https://pypi.org/project/requests/) library, these databases can be accessed directly"
   ]
  },
  {
   "cell_type": "code",
   "execution_count": 25,
   "metadata": {},
   "outputs": [],
   "source": [
    "import requests"
   ]
  },
  {
   "cell_type": "markdown",
   "metadata": {},
   "source": [
    "- A helper function to handle converting the name of the database into the RID, and a helper function to list the names of all the sources"
   ]
  },
  {
   "cell_type": "code",
   "execution_count": 5,
   "metadata": {},
   "outputs": [],
   "source": [
    "def sourcetorid(sourcename):\n",
    "    rid = getSourceDict()[sourcename]\n",
    "    return(rid)\n",
    "def list_sources():\n",
    "    sourcelist=[]\n",
    "    q = getSourceDict()\n",
    "    for key in q:\n",
    "        sourcelist.append(key)\n",
    "    return(sourcelist)"
   ]
  },
  {
   "cell_type": "markdown",
   "metadata": {},
   "source": [
    "- Some basic queries:"
   ]
  },
  {
   "cell_type": "code",
   "execution_count": 8,
   "metadata": {},
   "outputs": [],
   "source": [
    "#resource id, int n -> json (results which are the first n)\n",
    "def n_recent(rid, n):\n",
    "    r = requests.get(\"https://data.boston.gov/api/3/action/datastore_search?resource_id=\"+rid+\"&limit=\"+str(n))\n",
    "    return(r.json())\n",
    "\n",
    "\n",
    "#resource id, string n -> json (results which are those which contain n)\n",
    "def n_contained(rid, n):\n",
    "    r = requests.get(\"https://data.boston.gov/api/3/action/datastore_search?resource_id=\"+rid+\"&q=\"+str(n))\n",
    "    return(r.json())\n",
    "\n",
    "\n",
    "#resource id, int r (the number of results to return), int n (the starting index) -> json (results which start at n, go to n+r)\n",
    "def n_skip(rid, r, n):\n",
    "    r = requests.get(\"https://data.boston.gov/api/3/action/datastore_search?resource_id=\"+rid+\"$top=\",r,\"&$skip=\",n)\n",
    "    return(r.json())\n"
   ]
  },
  {
   "cell_type": "markdown",
   "metadata": {},
   "source": [
    "- Two functions to parse the returned json(s):"
   ]
  },
  {
   "cell_type": "code",
   "execution_count": 9,
   "metadata": {},
   "outputs": [],
   "source": [
    "#request json -> list of fields in the result w/ types and names\n",
    "def return_fields(returnedjson):\n",
    "    return(returnedjson['result']['fields'])\n",
    "\n",
    "\n",
    "#request result -> nice format to parse\n",
    "def eat_result(eson):\n",
    "    re = eson['result']['records']\n",
    "    return(re)"
   ]
  },
  {
   "cell_type": "markdown",
   "metadata": {},
   "source": [
    "- Requesting the data (example):"
   ]
  },
  {
   "cell_type": "code",
   "execution_count": 10,
   "metadata": {},
   "outputs": [
    {
     "name": "stdout",
     "output_type": "stream",
     "text": [
      "==== Available sources: ====\n",
      "CRIMEINCIDENTREPORTS_2022\n",
      "CRIMEINCIDENTREPORTS_2021\n",
      "CRIMEINCIDENTREPORTS_2020\n",
      "CRIMEINCIDENTREPORTS_2019\n",
      "CRIMEINCIDENTREPORTS_2018\n",
      "SHOOTINGS\n",
      "SHOTSFIRED\n",
      "FIELDINTERROGATION_2020\n",
      "FIELDINTERROGATION_2019\n",
      "FIELDINTERROGATION_2016\n",
      "FIREARM_RECOVERY\n",
      "EARNINGS_2021\n",
      "EARNINGS_2020\n",
      "EARNINGS_2019\n",
      "EARNINGS_2018\n",
      "CHECKBOOK_2022\n",
      "CHECKBOOK_2021\n"
     ]
    }
   ],
   "source": [
    "    sourcenames = list_sources()\n",
    "    print(\"==== Available sources: ====\")\n",
    "    for x in range(0, len(sourcenames)):\n",
    "        print(sourcenames[x])"
   ]
  },
  {
   "cell_type": "markdown",
   "metadata": {},
   "source": [
    "- Selecting and pulling the fields (the column names) of a desired source:"
   ]
  },
  {
   "cell_type": "code",
   "execution_count": 16,
   "metadata": {},
   "outputs": [
    {
     "name": "stdout",
     "output_type": "stream",
     "text": [
      "==  ec5aaf93-1509-4641-9310-28e62e028457 ( EARNINGS_2021 )  fields: ==\n",
      "{'type': 'int', 'id': '_id'}\n",
      "{'type': 'text', 'id': 'NAME'}\n",
      "{'type': 'text', 'id': 'DEPARTMENT_NAME'}\n",
      "{'type': 'text', 'id': 'TITLE'}\n",
      "{'type': 'text', 'id': 'REGULAR'}\n",
      "{'type': 'text', 'id': 'RETRO'}\n",
      "{'type': 'text', 'id': 'OTHER'}\n",
      "{'type': 'text', 'id': 'OVERTIME'}\n",
      "{'type': 'text', 'id': 'INJURED'}\n",
      "{'type': 'text', 'id': 'DETAIL'}\n",
      "{'type': 'text', 'id': 'QUINN_EDUCATION_INCENTIVE'}\n",
      "{'type': 'text', 'id': 'TOTAL_GROSS'}\n",
      "{'type': 'text', 'id': 'POSTAL'}\n"
     ]
    }
   ],
   "source": [
    "selected=\"EARNINGS_2021\"\n",
    "rid = sourcetorid(selected)\n",
    "rid_fields = return_fields(n_recent(rid, 1))\n",
    "print(\"== \", rid,\"(\",selected, \")\", \" fields: ==\")\n",
    "for x in range(0, len(rid_fields)):\n",
    "    print(rid_fields[x])"
   ]
  },
  {
   "cell_type": "markdown",
   "metadata": {},
   "source": [
    "- Getting the first <i>n</i> entries from the dataset:"
   ]
  },
  {
   "cell_type": "code",
   "execution_count": 24,
   "metadata": {},
   "outputs": [
    {
     "name": "stdout",
     "output_type": "stream",
     "text": [
      "== Requesting  100 entries from  ec5aaf93-1509-4641-9310-28e62e028457  ==\n",
      "\n",
      "{'INJURED': None, 'POSTAL': '02119', 'NAME': 'Beckers,Richard', 'TITLE': 'Police Officer', 'DETAIL': None, 'OTHER': '1,264,843.63', 'DEPARTMENT_NAME': 'Boston Police Department', 'OVERTIME': None, 'REGULAR': None, 'RETRO': None, 'TOTAL_GROSS': '1,264,843.63', '_id': 1, 'QUINN_EDUCATION_INCENTIVE': None}\n",
      "\n",
      "{'INJURED': None, 'POSTAL': '02129', 'NAME': 'McGowan,Jacqueline M.', 'TITLE': 'Police Officer', 'DETAIL': None, 'OTHER': '1,252,990.81', 'DEPARTMENT_NAME': 'Boston Police Department', 'OVERTIME': None, 'REGULAR': None, 'RETRO': None, 'TOTAL_GROSS': '1,252,990.81', '_id': 2, 'QUINN_EDUCATION_INCENTIVE': None}\n",
      "\n",
      "{'INJURED': '30,939.24', 'POSTAL': '02130', 'NAME': 'Harris,Shawn N', 'TITLE': 'Police Offc Comm Serv Offc 3$8', 'DETAIL': '12,144.00', 'OTHER': '212,739.48', 'DEPARTMENT_NAME': 'Boston Police Department', 'OVERTIME': '82,300.87', 'REGULAR': '69,772.10', 'RETRO': None, 'TOTAL_GROSS': '433,073.75', '_id': 3, 'QUINN_EDUCATION_INCENTIVE': '25,178.06'}\n",
      "\n",
      "{'INJURED': None, 'POSTAL': '02368', 'NAME': 'Washington,Walter', 'TITLE': 'Police Officer', 'DETAIL': '9,016.00', 'OTHER': '211,900.28', 'DEPARTMENT_NAME': 'Boston Police Department', 'OVERTIME': '67,849.66', 'REGULAR': '100,963.38', 'RETRO': None, 'TOTAL_GROSS': '399,825.87', '_id': 4, 'QUINN_EDUCATION_INCENTIVE': '10,096.55'}\n",
      "\n",
      "{'INJURED': None, 'POSTAL': '02301', 'NAME': 'Mosley Jr.,Curtis', 'TITLE': 'Police Offc Comm Serv Offc 3$8', 'DETAIL': '19,550.00', 'OTHER': '192,097.54', 'DEPARTMENT_NAME': 'Boston Police Department', 'OVERTIME': '75,938.65', 'REGULAR': '109,858.02', 'RETRO': None, 'TOTAL_GROSS': '397,444.21', '_id': 5, 'QUINN_EDUCATION_INCENTIVE': None}\n",
      "\n",
      "{'INJURED': None, 'POSTAL': '02124', 'NAME': 'Joseph,Martin M', 'TITLE': 'Police Sergeant (Det)', 'DETAIL': '50,085.00', 'OTHER': '124,524.50', 'DEPARTMENT_NAME': 'Boston Police Department', 'OVERTIME': '66,433.83', 'REGULAR': '127,626.76', 'RETRO': None, 'TOTAL_GROSS': '381,432.87', '_id': 6, 'QUINN_EDUCATION_INCENTIVE': '12,762.78'}\n",
      "\n",
      "{'INJURED': None, 'POSTAL': '02052', 'NAME': 'Demesmin,Stanley', 'TITLE': 'Police Lieutenant (Det)', 'DETAIL': '24,695.00', 'OTHER': '15,820.50', 'DEPARTMENT_NAME': 'Boston Police Department', 'OVERTIME': '167,509.61', 'REGULAR': '142,466.41', 'RETRO': None, 'TOTAL_GROSS': '378,690.01', '_id': 7, 'QUINN_EDUCATION_INCENTIVE': '28,198.49'}\n",
      "\n",
      "{'INJURED': None, 'POSTAL': '02186', 'NAME': 'Smith,Sean P', 'TITLE': 'Police Lieutenant', 'DETAIL': '53,240.00', 'OTHER': '16,789.43', 'DEPARTMENT_NAME': 'Boston Police Department', 'OVERTIME': '109,101.43', 'REGULAR': '143,566.78', 'RETRO': None, 'TOTAL_GROSS': '358,589.49', '_id': 8, 'QUINN_EDUCATION_INCENTIVE': '35,891.85'}\n",
      "\n",
      "{'INJURED': None, 'POSTAL': None, 'NAME': None, 'TITLE': None, 'DETAIL': None, 'OTHER': None, 'DEPARTMENT_NAME': None, 'OVERTIME': None, 'REGULAR': None, 'RETRO': None, 'TOTAL_GROSS': None, '_id': 22547, 'QUINN_EDUCATION_INCENTIVE': None}\n",
      "\n",
      "{'INJURED': None, 'POSTAL': None, 'NAME': None, 'TITLE': None, 'DETAIL': None, 'OTHER': None, 'DEPARTMENT_NAME': None, 'OVERTIME': None, 'REGULAR': None, 'RETRO': None, 'TOTAL_GROSS': None, '_id': 22548, 'QUINN_EDUCATION_INCENTIVE': None}\n",
      "\n",
      "{'INJURED': None, 'POSTAL': None, 'NAME': None, 'TITLE': None, 'DETAIL': None, 'OTHER': None, 'DEPARTMENT_NAME': None, 'OVERTIME': None, 'REGULAR': None, 'RETRO': None, 'TOTAL_GROSS': None, '_id': 22549, 'QUINN_EDUCATION_INCENTIVE': None}\n",
      "\n",
      "{'INJURED': None, 'POSTAL': None, 'NAME': None, 'TITLE': None, 'DETAIL': None, 'OTHER': None, 'DEPARTMENT_NAME': None, 'OVERTIME': None, 'REGULAR': None, 'RETRO': None, 'TOTAL_GROSS': None, '_id': 22550, 'QUINN_EDUCATION_INCENTIVE': None}\n",
      "\n",
      "{'INJURED': None, 'POSTAL': '02134', 'NAME': 'Lee,Waiman', 'TITLE': 'Police Detective', 'DETAIL': '123,234.00', 'OTHER': '16,324.27', 'DEPARTMENT_NAME': 'Boston Police Department', 'OVERTIME': '76,434.46', 'REGULAR': '107,352.54', 'RETRO': None, 'TOTAL_GROSS': '350,183.38', '_id': 9, 'QUINN_EDUCATION_INCENTIVE': '26,838.11'}\n",
      "\n",
      "{'INJURED': None, 'POSTAL': '02132', 'NAME': 'Barrett,Thomas E.', 'TITLE': 'Police Sergeant (Det)', 'DETAIL': None, 'OTHER': '16,723.95', 'DEPARTMENT_NAME': 'Boston Police Department', 'OVERTIME': '166,042.24', 'REGULAR': '130,930.12', 'RETRO': None, 'TOTAL_GROSS': '346,429.04', '_id': 10, 'QUINN_EDUCATION_INCENTIVE': '32,732.73'}\n",
      "\n",
      "{'INJURED': '6,504.89', 'POSTAL': '02559', 'NAME': 'Danilecki,John H', 'TITLE': 'Police Captain', 'DETAIL': '64,800.00', 'OTHER': '24,504.13', 'DEPARTMENT_NAME': 'Boston Police Department', 'OVERTIME': '49,388.68', 'REGULAR': '157,595.81', 'RETRO': None, 'TOTAL_GROSS': '343,818.59', '_id': 11, 'QUINN_EDUCATION_INCENTIVE': '41,025.08'}\n",
      "\n",
      "{'INJURED': None, 'POSTAL': '02121', 'NAME': 'Webb,Keith A', 'TITLE': 'Police Sergeant (Det)', 'DETAIL': '46,587.00', 'OTHER': '19,722.83', 'DEPARTMENT_NAME': 'Boston Police Department', 'OVERTIME': '109,031.27', 'REGULAR': '130,930.12', 'RETRO': None, 'TOTAL_GROSS': '339,003.95', '_id': 12, 'QUINN_EDUCATION_INCENTIVE': '32,732.73'}\n",
      "\n",
      "{'INJURED': '33,276.47', 'POSTAL': '02332', 'NAME': 'Hocking,Michael E', 'TITLE': 'Dep Fire Chief', 'DETAIL': '30,562.00', 'OTHER': '9,935.46', 'DEPARTMENT_NAME': 'Boston Fire Department', 'OVERTIME': '75,459.19', 'REGULAR': '187,602.91', 'RETRO': None, 'TOTAL_GROSS': '336,836.03', '_id': 13, 'QUINN_EDUCATION_INCENTIVE': None}\n",
      "\n",
      "{'INJURED': '4,281.69', 'POSTAL': '02131', 'NAME': 'Sweeney,Steven', 'TITLE': 'Police Captain/DDC', 'DETAIL': '2,520.00', 'OTHER': '24,423.09', 'DEPARTMENT_NAME': 'Boston Police Department', 'OVERTIME': '104,610.39', 'REGULAR': '159,603.67', 'RETRO': None, 'TOTAL_GROSS': '336,410.11', '_id': 14, 'QUINN_EDUCATION_INCENTIVE': '40,971.27'}\n",
      "\n",
      "{'INJURED': None, 'POSTAL': '02136', 'NAME': 'Brown,John M', 'TITLE': 'Police Sergeant (Det)', 'DETAIL': '1,802.00', 'OTHER': '19,672.83', 'DEPARTMENT_NAME': 'Boston Police Department', 'OVERTIME': '150,490.63', 'REGULAR': '130,930.12', 'RETRO': None, 'TOTAL_GROSS': '335,628.31', '_id': 15, 'QUINN_EDUCATION_INCENTIVE': '32,732.73'}\n",
      "\n",
      "{'INJURED': '19,715.00', 'POSTAL': '01867', 'NAME': 'Doherty,Michael J.', 'TITLE': 'Dep Fire Chief', 'DETAIL': '49,018.50', 'OTHER': '9,910.46', 'DEPARTMENT_NAME': 'Boston Fire Department', 'OVERTIME': '52,774.34', 'REGULAR': '201,164.38', 'RETRO': None, 'TOTAL_GROSS': '332,582.68', '_id': 16, 'QUINN_EDUCATION_INCENTIVE': None}\n",
      "\n",
      "{'INJURED': None, 'POSTAL': '02135', 'NAME': 'Kervin,Timothy M.', 'TITLE': 'Lieut-Hackney Carriage Inves.', 'DETAIL': '94,325.00', 'OTHER': '20,912.37', 'DEPARTMENT_NAME': 'Boston Police Department', 'OVERTIME': '41,962.42', 'REGULAR': '139,239.28', 'RETRO': None, 'TOTAL_GROSS': '331,248.89', '_id': 17, 'QUINN_EDUCATION_INCENTIVE': '34,809.82'}\n",
      "\n",
      "{'INJURED': None, 'POSTAL': '02021', 'NAME': 'Downing,George C', 'TITLE': 'Police Offc Comm Serv Offc 3$8', 'DETAIL': '2,208.00', 'OTHER': '208,143.50', 'DEPARTMENT_NAME': 'Boston Police Department', 'OVERTIME': '9,654.57', 'REGULAR': '99,906.76', 'RETRO': None, 'TOTAL_GROSS': '329,903.66', '_id': 18, 'QUINN_EDUCATION_INCENTIVE': '9,990.83'}\n",
      "\n",
      "{'INJURED': '6,520.76', 'POSTAL': '02186', 'NAME': 'Connolly,Timothy', 'TITLE': 'Police Captain/DDC', 'DETAIL': None, 'OTHER': '22,338.83', 'DEPARTMENT_NAME': 'Boston Police Department', 'OVERTIME': '101,772.10', 'REGULAR': '157,980.06', 'RETRO': None, 'TOTAL_GROSS': '329,737.12', '_id': 19, 'QUINN_EDUCATION_INCENTIVE': '41,125.37'}\n",
      "\n",
      "{'INJURED': None, 'POSTAL': '02184', 'NAME': 'Harrington,Mark William', 'TITLE': 'Police Captain/DDC', 'DETAIL': '7,080.00', 'OTHER': '24,511.81', 'DEPARTMENT_NAME': 'Boston Police Department', 'OVERTIME': '88,265.54', 'REGULAR': '164,500.82', 'RETRO': None, 'TOTAL_GROSS': '325,483.54', '_id': 20, 'QUINN_EDUCATION_INCENTIVE': '41,125.37'}\n",
      "\n",
      "{'INJURED': '2,321.13', 'POSTAL': '02132', 'NAME': 'Gero,Jarrod A', 'TITLE': 'Police Detective', 'DETAIL': '79,534.00', 'OTHER': '4,718.57', 'DEPARTMENT_NAME': 'Boston Police Department', 'OVERTIME': '109,025.45', 'REGULAR': '105,031.41', 'RETRO': None, 'TOTAL_GROSS': '324,639.94', '_id': 21, 'QUINN_EDUCATION_INCENTIVE': '24,009.38'}\n",
      "\n",
      "{'INJURED': None, 'POSTAL': '02124', 'NAME': 'Pusey,Daniel C.', 'TITLE': 'Police Sergeant (Det)', 'DETAIL': '80,507.00', 'OTHER': '800.00', 'DEPARTMENT_NAME': 'Boston Police Department', 'OVERTIME': '88,685.50', 'REGULAR': '127,626.76', 'RETRO': None, 'TOTAL_GROSS': '323,144.82', '_id': 22, 'QUINN_EDUCATION_INCENTIVE': '25,525.56'}\n",
      "\n",
      "{'INJURED': None, 'POSTAL': '02127', 'NAME': 'Leeman,Joseph R', 'TITLE': 'Police Lieutenant', 'DETAIL': '66,495.00', 'OTHER': '13,951.43', 'DEPARTMENT_NAME': 'Boston Police Department', 'OVERTIME': '59,823.83', 'REGULAR': '144,727.72', 'RETRO': None, 'TOTAL_GROSS': '320,880.48', '_id': 23, 'QUINN_EDUCATION_INCENTIVE': '35,882.50'}\n",
      "\n",
      "{'INJURED': None, 'POSTAL': '02122', 'NAME': 'Carroll,Christopher F', 'TITLE': 'Police Sergeant (Det)', 'DETAIL': '39,379.00', 'OTHER': '11,415.97', 'DEPARTMENT_NAME': 'Boston Police Department', 'OVERTIME': '98,384.42', 'REGULAR': '132,805.89', 'RETRO': None, 'TOTAL_GROSS': '314,718.01', '_id': 24, 'QUINN_EDUCATION_INCENTIVE': '32,732.73'}\n",
      "\n",
      "{'INJURED': None, 'POSTAL': '02062', 'NAME': 'Whalen,Richard L', 'TITLE': 'Police Detective', 'DETAIL': '25,208.00', 'OTHER': '33,303.87', 'DEPARTMENT_NAME': 'Boston Police Department', 'OVERTIME': '121,166.02', 'REGULAR': '104,644.14', 'RETRO': None, 'TOTAL_GROSS': '310,483.04', '_id': 25, 'QUINN_EDUCATION_INCENTIVE': '26,161.01'}\n",
      "\n",
      "{'INJURED': None, 'POSTAL': '02184', 'NAME': 'Carroll,Bryan', 'TITLE': 'Employment Agreement', 'DETAIL': None, 'OTHER': None, 'DEPARTMENT_NAME': 'Dpt of Innovation & Technology', 'OVERTIME': None, 'REGULAR': '191,100.00', 'RETRO': None, 'TOTAL_GROSS': '191,100.00', '_id': 943, 'QUINN_EDUCATION_INCENTIVE': None}\n",
      "\n",
      "{'INJURED': None, 'POSTAL': '02035', 'NAME': 'Cullity,Patrick J', 'TITLE': 'Police Lieutenant (Det)', 'DETAIL': '7,755.00', 'OTHER': '21,812.67', 'DEPARTMENT_NAME': 'Boston Police Department', 'OVERTIME': '98,212.52', 'REGULAR': '145,775.26', 'RETRO': None, 'TOTAL_GROSS': '309,999.49', '_id': 26, 'QUINN_EDUCATION_INCENTIVE': '36,444.04'}\n",
      "\n",
      "{'INJURED': None, 'POSTAL': '02132', 'NAME': 'Cellucci,Charles J', 'TITLE': 'Police Sergeant (Det)', 'DETAIL': '19,398.00', 'OTHER': '17,363.73', 'DEPARTMENT_NAME': 'Boston Police Department', 'OVERTIME': '108,854.99', 'REGULAR': '130,930.12', 'RETRO': None, 'TOTAL_GROSS': '309,279.57', '_id': 27, 'QUINN_EDUCATION_INCENTIVE': '32,732.73'}\n",
      "\n",
      "{'INJURED': None, 'POSTAL': '02136', 'NAME': 'Quiles,Wilson', 'TITLE': 'Police Sergeant', 'DETAIL': '55,968.00', 'OTHER': '850.00', 'DEPARTMENT_NAME': 'Boston Police Department', 'OVERTIME': '94,689.76', 'REGULAR': '126,681.57', 'RETRO': None, 'TOTAL_GROSS': '309,190.72', '_id': 28, 'QUINN_EDUCATION_INCENTIVE': '31,001.39'}\n",
      "\n",
      "{'INJURED': None, 'POSTAL': '02492', 'NAME': 'Ciccolo,Robert W', 'TITLE': 'Police Captain/DDC', 'DETAIL': '19,680.00', 'OTHER': '9,741.93', 'DEPARTMENT_NAME': 'Boston Police Department', 'OVERTIME': '74,047.09', 'REGULAR': '164,500.82', 'RETRO': None, 'TOTAL_GROSS': '309,095.21', '_id': 29, 'QUINN_EDUCATION_INCENTIVE': '41,125.37'}\n",
      "\n",
      "{'INJURED': None, 'POSTAL': '02127', 'NAME': 'Keenan,Donald F', 'TITLE': 'Police Sergeant (Det)', 'DETAIL': '42,029.00', 'OTHER': '18,721.78', 'DEPARTMENT_NAME': 'Boston Police Department', 'OVERTIME': '82,739.94', 'REGULAR': '133,453.96', 'RETRO': None, 'TOTAL_GROSS': '309,000.37', '_id': 30, 'QUINN_EDUCATION_INCENTIVE': '32,055.69'}\n",
      "\n",
      "{'INJURED': None, 'POSTAL': '02132', 'NAME': 'Fitzgerald,John J', 'TITLE': 'Police Lieutenant', 'DETAIL': '15,840.00', 'OTHER': '21,334.27', 'DEPARTMENT_NAME': 'Boston Police Department', 'OVERTIME': '101,933.27', 'REGULAR': '141,128.94', 'RETRO': None, 'TOTAL_GROSS': '308,462.28', '_id': 31, 'QUINN_EDUCATION_INCENTIVE': '28,225.80'}\n",
      "\n",
      "{'INJURED': '40,109.28', 'POSTAL': '02476', 'NAME': 'McCormick,Kelley J', 'TITLE': 'Police Captain', 'DETAIL': '50,640.00', 'OTHER': '7,468.95', 'DEPARTMENT_NAME': 'Boston Police Department', 'OVERTIME': '43,919.53', 'REGULAR': '124,473.97', 'RETRO': None, 'TOTAL_GROSS': '307,757.65', '_id': 32, 'QUINN_EDUCATION_INCENTIVE': '41,145.92'}\n",
      "\n",
      "{'INJURED': None, 'POSTAL': '02125', 'NAME': 'Almeida,Ismael Lopes', 'TITLE': 'Police Officer', 'DETAIL': '126,822.00', 'OTHER': '800.00', 'DEPARTMENT_NAME': 'Boston Police Department', 'OVERTIME': '60,044.37', 'REGULAR': '99,101.82', 'RETRO': None, 'TOTAL_GROSS': '306,588.43', '_id': 33, 'QUINN_EDUCATION_INCENTIVE': '19,820.24'}\n",
      "\n",
      "{'INJURED': None, 'POSTAL': '02119', 'NAME': 'Cassellius,Brenda', 'TITLE': 'Superintendent', 'DETAIL': None, 'OTHER': '26,416.08', 'DEPARTMENT_NAME': 'Superintendent', 'OVERTIME': None, 'REGULAR': '279,999.98', 'RETRO': None, 'TOTAL_GROSS': '306,416.06', '_id': 34, 'QUINN_EDUCATION_INCENTIVE': None}\n",
      "\n",
      "{'INJURED': '3,628.49', 'POSTAL': '02176', 'NAME': 'Assad,Mark L', 'TITLE': 'Police Lieutenant', 'DETAIL': '40,535.00', 'OTHER': '20,942.12', 'DEPARTMENT_NAME': 'Boston Police Department', 'OVERTIME': '67,793.04', 'REGULAR': '137,621.98', 'RETRO': None, 'TOTAL_GROSS': '305,741.24', '_id': 35, 'QUINN_EDUCATION_INCENTIVE': '35,220.61'}\n",
      "\n",
      "{'INJURED': None, 'POSTAL': '02136', 'NAME': 'Dugbazah,Sefa Kwasi', 'TITLE': 'Police Officer', 'DETAIL': '178,940.00', 'OTHER': '800.00', 'DEPARTMENT_NAME': 'Boston Police Department', 'OVERTIME': '14,696.61', 'REGULAR': '91,784.20', 'RETRO': None, 'TOTAL_GROSS': '304,577.47', '_id': 36, 'QUINN_EDUCATION_INCENTIVE': '18,356.66'}\n",
      "\n",
      "{'INJURED': None, 'POSTAL': '02021', 'NAME': 'Lewis,Richard G', 'TITLE': 'Police Sergeant (Det)', 'DETAIL': None, 'OTHER': '18,621.77', 'DEPARTMENT_NAME': 'Boston Police Department', 'OVERTIME': '131,223.88', 'REGULAR': '127,626.76', 'RETRO': None, 'TOTAL_GROSS': '302,997.97', '_id': 37, 'QUINN_EDUCATION_INCENTIVE': '25,525.56'}\n",
      "\n",
      "{'INJURED': None, 'POSTAL': '02324', 'NAME': 'Sousa,Kenneth A', 'TITLE': 'Police Sergeant', 'DETAIL': '11,660.00', 'OTHER': '108,676.66', 'DEPARTMENT_NAME': 'Boston Police Department', 'OVERTIME': '29,790.65', 'REGULAR': '122,465.84', 'RETRO': None, 'TOTAL_GROSS': '302,890.09', '_id': 38, 'QUINN_EDUCATION_INCENTIVE': '30,296.94'}\n",
      "\n",
      "{'INJURED': '3,302.74', 'POSTAL': '02050', 'NAME': 'Brown,Michael A', 'TITLE': 'Police Sergeant (Det)', 'DETAIL': None, 'OTHER': '16,134.18', 'DEPARTMENT_NAME': 'Boston Police Department', 'OVERTIME': '120,444.77', 'REGULAR': '127,627.38', 'RETRO': None, 'TOTAL_GROSS': '300,241.80', '_id': 39, 'QUINN_EDUCATION_INCENTIVE': '32,732.73'}\n",
      "\n",
      "{'INJURED': None, 'POSTAL': '02122', 'NAME': 'Leahy,Brian Matthew', 'TITLE': 'Police Sergeant (Det)', 'DETAIL': '14,522.00', 'OTHER': '19,246.67', 'DEPARTMENT_NAME': 'Boston Police Department', 'OVERTIME': '106,910.30', 'REGULAR': '127,626.76', 'RETRO': None, 'TOTAL_GROSS': '300,212.62', '_id': 40, 'QUINN_EDUCATION_INCENTIVE': '31,906.89'}\n",
      "\n",
      "{'INJURED': None, 'POSTAL': '02081', 'NAME': 'Blando,Carl', 'TITLE': 'Police Sergeant (Det)', 'DETAIL': '79,500.00', 'OTHER': '9,646.64', 'DEPARTMENT_NAME': 'Boston Police Department', 'OVERTIME': '43,391.45', 'REGULAR': '134,735.09', 'RETRO': None, 'TOTAL_GROSS': '299,786.43', '_id': 41, 'QUINN_EDUCATION_INCENTIVE': '32,513.25'}\n",
      "\n",
      "{'INJURED': None, 'POSTAL': '02368', 'NAME': 'Smith,Timothy', 'TITLE': 'District Fire Chief-Technician', 'DETAIL': '49,533.75', 'OTHER': '8,853.41', 'DEPARTMENT_NAME': 'Boston Fire Department', 'OVERTIME': '44,756.47', 'REGULAR': '196,600.58', 'RETRO': None, 'TOTAL_GROSS': '299,744.21', '_id': 42, 'QUINN_EDUCATION_INCENTIVE': None}\n",
      "\n",
      "{'INJURED': None, 'POSTAL': '02766', 'NAME': 'Conley,James B', 'TITLE': 'Police Lieutenant (Det)', 'DETAIL': None, 'OTHER': '18,246.28', 'DEPARTMENT_NAME': 'Boston Police Department', 'OVERTIME': '103,739.76', 'REGULAR': '141,412.06', 'RETRO': None, 'TOTAL_GROSS': '298,751.14', '_id': 43, 'QUINN_EDUCATION_INCENTIVE': '35,353.04'}\n",
      "\n",
      "{'INJURED': None, 'POSTAL': '02081', 'NAME': 'Foley,Patrick M.J', 'TITLE': 'Police Detective', 'DETAIL': '27,968.00', 'OTHER': '5,635.71', 'DEPARTMENT_NAME': 'Boston Police Department', 'OVERTIME': '130,908.25', 'REGULAR': '107,352.54', 'RETRO': None, 'TOTAL_GROSS': '298,702.61', '_id': 44, 'QUINN_EDUCATION_INCENTIVE': '26,838.11'}\n",
      "\n",
      "{'INJURED': None, 'POSTAL': '02215', 'NAME': 'Sullivan,Marc', 'TITLE': 'Police Sergeant (Det)', 'DETAIL': '8,056.00', 'OTHER': '18,493.28', 'DEPARTMENT_NAME': 'Boston Police Department', 'OVERTIME': '114,599.50', 'REGULAR': '130,930.12', 'RETRO': None, 'TOTAL_GROSS': '298,264.97', '_id': 45, 'QUINN_EDUCATION_INCENTIVE': '26,186.07'}\n",
      "\n",
      "{'INJURED': None, 'POSTAL': '02301', 'NAME': 'Brown,Eric L', 'TITLE': 'FF (Mas Of F Boat)', 'DETAIL': '77,837.25', 'OTHER': '3,136.57', 'DEPARTMENT_NAME': 'Boston Fire Department', 'OVERTIME': '66,880.11', 'REGULAR': '150,031.31', 'RETRO': None, 'TOTAL_GROSS': '297,885.24', '_id': 46, 'QUINN_EDUCATION_INCENTIVE': None}\n",
      "\n",
      "{'INJURED': None, 'POSTAL': '02132', 'NAME': 'Dorsainvil,Jean-Gerard', 'TITLE': 'Police Detective', 'DETAIL': '6,348.00', 'OTHER': '10,887.33', 'DEPARTMENT_NAME': 'Boston Police Department', 'OVERTIME': '154,900.81', 'REGULAR': '104,644.14', 'RETRO': None, 'TOTAL_GROSS': '297,709.26', '_id': 47, 'QUINN_EDUCATION_INCENTIVE': '20,928.98'}\n",
      "\n",
      "{'INJURED': None, 'POSTAL': '02132', 'NAME': 'Turcios,Pedro', 'TITLE': 'Teacher', 'DETAIL': None, 'OTHER': None, 'DEPARTMENT_NAME': 'Kilmer K-8', 'OVERTIME': None, 'REGULAR': '72,242.20', 'RETRO': None, 'TOTAL_GROSS': '72,242.20', '_id': 12027, 'QUINN_EDUCATION_INCENTIVE': None}\n",
      "\n",
      "{'INJURED': '124,100.14', 'POSTAL': '02188', 'NAME': 'Ruggere,Michael J', 'TITLE': 'DepFireChiefAdmn-AdvTechnician', 'DETAIL': None, 'OTHER': '172,765.83', 'DEPARTMENT_NAME': 'Boston Fire Department', 'OVERTIME': None, 'REGULAR': '529.05', 'RETRO': None, 'TOTAL_GROSS': '297,395.02', '_id': 48, 'QUINN_EDUCATION_INCENTIVE': None}\n",
      "\n",
      "{'INJURED': None, 'POSTAL': '02364', 'NAME': 'Mammone,Adam A.', 'TITLE': 'Police Lieutenant', 'DETAIL': '37,080.00', 'OTHER': '9,134.32', 'DEPARTMENT_NAME': 'Boston Police Department', 'OVERTIME': '85,798.17', 'REGULAR': '130,306.08', 'RETRO': None, 'TOTAL_GROSS': '294,310.50', '_id': 49, 'QUINN_EDUCATION_INCENTIVE': '31,991.93'}\n",
      "\n",
      "{'INJURED': '3,114.63', 'POSTAL': '02132', 'NAME': 'Downey,Paul J', 'TITLE': 'Police Sergeant', 'DETAIL': '18,412.00', 'OTHER': '12,479.85', 'DEPARTMENT_NAME': 'Boston Police Department', 'OVERTIME': '145,058.43', 'REGULAR': '115,228.60', 'RETRO': None, 'TOTAL_GROSS': '294,293.51', '_id': 50, 'QUINN_EDUCATION_INCENTIVE': None}\n",
      "\n",
      "{'INJURED': None, 'POSTAL': '02021', 'NAME': 'Long,Gregory P', 'TITLE': 'Supn-In Chief', 'DETAIL': None, 'OTHER': '30,244.46', 'DEPARTMENT_NAME': 'Boston Police Department', 'OVERTIME': None, 'REGULAR': '209,372.65', 'RETRO': None, 'TOTAL_GROSS': '291,960.30', '_id': 51, 'QUINN_EDUCATION_INCENTIVE': '52,343.19'}\n",
      "\n",
      "{'INJURED': None, 'POSTAL': '02301', 'NAME': 'James,Alfred A', 'TITLE': 'Police Detective', 'DETAIL': '58,144.00', 'OTHER': '11,922.13', 'DEPARTMENT_NAME': 'Boston Police Department', 'OVERTIME': '92,459.08', 'REGULAR': '107,352.54', 'RETRO': None, 'TOTAL_GROSS': '291,348.41', '_id': 52, 'QUINN_EDUCATION_INCENTIVE': '21,470.66'}\n",
      "\n",
      "{'INJURED': None, 'POSTAL': '02339', 'NAME': 'Terenzi,Phillip', 'TITLE': 'Captain/Academy Instructor', 'DETAIL': '14,520.00', 'OTHER': '10,201.55', 'DEPARTMENT_NAME': 'Boston Police Department', 'OVERTIME': '65,906.34', 'REGULAR': '160,549.88', 'RETRO': None, 'TOTAL_GROSS': '291,315.37', '_id': 53, 'QUINN_EDUCATION_INCENTIVE': '40,137.60'}\n",
      "\n",
      "{'INJURED': None, 'POSTAL': '02081', 'NAME': 'Gaughan,Timothy P', 'TITLE': 'Police Lieutenant (Det)', 'DETAIL': '7,040.00', 'OTHER': '20,762.03', 'DEPARTMENT_NAME': 'Boston Police Department', 'OVERTIME': '81,148.02', 'REGULAR': '145,775.26', 'RETRO': None, 'TOTAL_GROSS': '291,169.35', '_id': 54, 'QUINN_EDUCATION_INCENTIVE': '36,444.04'}\n",
      "\n",
      "{'INJURED': None, 'POSTAL': '02332', 'NAME': 'Kozmiski,Therese M', 'TITLE': 'Police Captain (Det)', 'DETAIL': None, 'OTHER': '24,852.33', 'DEPARTMENT_NAME': 'Boston Police Department', 'OVERTIME': '57,654.73', 'REGULAR': '166,111.40', 'RETRO': None, 'TOTAL_GROSS': '290,146.57', '_id': 55, 'QUINN_EDUCATION_INCENTIVE': '41,528.11'}\n",
      "\n",
      "{'INJURED': '262,136.08', 'POSTAL': '02019', 'NAME': 'Stallworth,Andre R', 'TITLE': 'Chief of Field Services', 'DETAIL': None, 'OTHER': '23,541.73', 'DEPARTMENT_NAME': 'Boston Fire Department', 'OVERTIME': None, 'REGULAR': '4,301.59', 'RETRO': None, 'TOTAL_GROSS': '289,979.40', '_id': 56, 'QUINN_EDUCATION_INCENTIVE': None}\n",
      "\n",
      "{'INJURED': None, 'POSTAL': '02339', 'NAME': 'Bickerton,Dean', 'TITLE': 'Police Lieutenant', 'DETAIL': '31,900.00', 'OTHER': '850.00', 'DEPARTMENT_NAME': 'Boston Police Department', 'OVERTIME': '83,195.03', 'REGULAR': '141,904.10', 'RETRO': None, 'TOTAL_GROSS': '289,585.97', '_id': 57, 'QUINN_EDUCATION_INCENTIVE': '31,736.84'}\n",
      "\n",
      "{'INJURED': None, 'POSTAL': '02131', 'NAME': 'Moore,James A', 'TITLE': 'Police Sergeant (Det)', 'DETAIL': None, 'OTHER': '19,196.67', 'DEPARTMENT_NAME': 'Boston Police Department', 'OVERTIME': '105,708.11', 'REGULAR': '131,616.16', 'RETRO': None, 'TOTAL_GROSS': '288,427.83', '_id': 58, 'QUINN_EDUCATION_INCENTIVE': '31,906.89'}\n",
      "\n",
      "{'INJURED': None, 'POSTAL': '02021', 'NAME': 'Thomas,Terry J', 'TITLE': 'Police Captain (Det)', 'DETAIL': '1,800.00', 'OTHER': '13,627.80', 'DEPARTMENT_NAME': 'Boston Police Department', 'OVERTIME': '64,251.46', 'REGULAR': '166,863.04', 'RETRO': None, 'TOTAL_GROSS': '288,258.32', '_id': 59, 'QUINN_EDUCATION_INCENTIVE': '41,716.02'}\n",
      "\n",
      "{'INJURED': '8,941.22', 'POSTAL': '02359', 'NAME': 'Hogan,Gerald E', 'TITLE': 'Dist Fire Chief', 'DETAIL': '55,741.00', 'OTHER': '8,853.41', 'DEPARTMENT_NAME': 'Boston Fire Department', 'OVERTIME': '26,717.61', 'REGULAR': '187,276.69', 'RETRO': None, 'TOTAL_GROSS': '287,529.93', '_id': 60, 'QUINN_EDUCATION_INCENTIVE': None}\n",
      "\n",
      "{'INJURED': None, 'POSTAL': '02035', 'NAME': 'McLaughlin,Steven P', 'TITLE': 'Police Captain/DDC', 'DETAIL': None, 'OTHER': '21,547.84', 'DEPARTMENT_NAME': 'Boston Police Department', 'OVERTIME': '51,128.50', 'REGULAR': '163,759.83', 'RETRO': None, 'TOTAL_GROSS': '277,376.30', '_id': 97, 'QUINN_EDUCATION_INCENTIVE': '40,940.13'}\n",
      "\n",
      "{'INJURED': None, 'POSTAL': '02132', 'NAME': 'Gillespie,Joseph G.', 'TITLE': 'Police Captain/DDC', 'DETAIL': '960.00', 'OTHER': '24,511.81', 'DEPARTMENT_NAME': 'Boston Police Department', 'OVERTIME': '55,530.90', 'REGULAR': '164,500.82', 'RETRO': None, 'TOTAL_GROSS': '286,628.90', '_id': 61, 'QUINN_EDUCATION_INCENTIVE': '41,125.37'}\n",
      "\n",
      "{'INJURED': None, 'POSTAL': '02132', 'NAME': 'Sanchez,Rene', 'TITLE': 'Police Sergeant', 'DETAIL': '43,142.00', 'OTHER': '800.00', 'DEPARTMENT_NAME': 'Boston Police Department', 'OVERTIME': '110,619.97', 'REGULAR': '132,009.41', 'RETRO': None, 'TOTAL_GROSS': '286,571.38', '_id': 62, 'QUINN_EDUCATION_INCENTIVE': None}\n",
      "\n",
      "{'INJURED': None, 'POSTAL': '02119', 'NAME': 'Barker,Gary', 'TITLE': 'Police Sergeant (Det)', 'DETAIL': '47,594.00', 'OTHER': '5,568.21', 'DEPARTMENT_NAME': 'Boston Police Department', 'OVERTIME': '74,621.54', 'REGULAR': '132,230.12', 'RETRO': None, 'TOTAL_GROSS': '286,199.94', '_id': 63, 'QUINN_EDUCATION_INCENTIVE': '26,186.07'}\n",
      "\n",
      "{'INJURED': None, 'POSTAL': '02492', 'NAME': 'McMahon,Joseph G', 'TITLE': 'Chief of Support Services', 'DETAIL': None, 'OTHER': '23,541.73', 'DEPARTMENT_NAME': 'Boston Fire Department', 'OVERTIME': None, 'REGULAR': '262,641.69', 'RETRO': None, 'TOTAL_GROSS': '286,183.42', '_id': 64, 'QUINN_EDUCATION_INCENTIVE': None}\n",
      "\n",
      "{'INJURED': None, 'POSTAL': '02053', 'NAME': 'Davin,John J', 'TITLE': 'Police Captain/DDC', 'DETAIL': '480.00', 'OTHER': '24,561.81', 'DEPARTMENT_NAME': 'Boston Police Department', 'OVERTIME': '55,391.45', 'REGULAR': '164,500.82', 'RETRO': None, 'TOTAL_GROSS': '286,059.45', '_id': 65, 'QUINN_EDUCATION_INCENTIVE': '41,125.37'}\n",
      "\n",
      "{'INJURED': None, 'POSTAL': '02132', 'NAME': 'Hughes,John C.', 'TITLE': 'Police Captain/DDC', 'DETAIL': '5,200.00', 'OTHER': '17,101.87', 'DEPARTMENT_NAME': 'Boston Police Department', 'OVERTIME': '70,950.92', 'REGULAR': '160,011.86', 'RETRO': None, 'TOTAL_GROSS': '285,267.15', '_id': 66, 'QUINN_EDUCATION_INCENTIVE': '32,002.50'}\n",
      "\n",
      "{'INJURED': None, 'POSTAL': '02472', 'NAME': 'Driscoll,Jeffery M.', 'TITLE': 'Police Officer', 'DETAIL': '106,582.00', 'OTHER': '850.00', 'DEPARTMENT_NAME': 'Boston Police Department', 'OVERTIME': '57,687.82', 'REGULAR': '96,025.58', 'RETRO': None, 'TOTAL_GROSS': '285,151.95', '_id': 67, 'QUINN_EDUCATION_INCENTIVE': '24,006.55'}\n",
      "\n",
      "{'INJURED': None, 'POSTAL': '02128', 'NAME': 'Gould,John J', 'TITLE': 'Police Detective', 'DETAIL': '13,984.00', 'OTHER': '6,846.28', 'DEPARTMENT_NAME': 'Boston Police Department', 'OVERTIME': '129,342.80', 'REGULAR': '107,352.54', 'RETRO': None, 'TOTAL_GROSS': '284,363.73', '_id': 68, 'QUINN_EDUCATION_INCENTIVE': '26,838.11'}\n",
      "\n",
      "{'INJURED': None, 'POSTAL': '02122', 'NAME': 'Driscoll,Richard J', 'TITLE': 'Police Lieutenant', 'DETAIL': '5,445.00', 'OTHER': '20,788.61', 'DEPARTMENT_NAME': 'Boston Police Department', 'OVERTIME': '79,200.17', 'REGULAR': '143,390.33', 'RETRO': None, 'TOTAL_GROSS': '283,405.05', '_id': 69, 'QUINN_EDUCATION_INCENTIVE': '34,580.94'}\n",
      "\n",
      "{'INJURED': None, 'POSTAL': '02131', 'NAME': 'Adams,Daniel J', 'TITLE': 'Police Sergeant', 'DETAIL': '65,687.00', 'OTHER': '8,618.52', 'DEPARTMENT_NAME': 'Boston Police Department', 'OVERTIME': '51,076.19', 'REGULAR': '127,380.18', 'RETRO': None, 'TOTAL_GROSS': '283,253.34', '_id': 70, 'QUINN_EDUCATION_INCENTIVE': '30,491.45'}\n",
      "\n",
      "{'INJURED': '3,520.17', 'POSTAL': '02149', 'NAME': 'Brienza,Horacio D.', 'TITLE': 'District Fire Chief-Technician', 'DETAIL': '44,972.00', 'OTHER': '3,969.05', 'DEPARTMENT_NAME': 'Boston Fire Department', 'OVERTIME': '37,716.13', 'REGULAR': '192,935.96', 'RETRO': None, 'TOTAL_GROSS': '283,113.31', '_id': 71, 'QUINN_EDUCATION_INCENTIVE': None}\n",
      "\n",
      "{'INJURED': None, 'POSTAL': '02132', 'NAME': 'Kern,Michael V', 'TITLE': 'Police Lieutenant (Det)', 'DETAIL': '220.00', 'OTHER': '21,912.67', 'DEPARTMENT_NAME': 'Boston Police Department', 'OVERTIME': '78,206.93', 'REGULAR': '145,775.26', 'RETRO': None, 'TOTAL_GROSS': '282,558.90', '_id': 72, 'QUINN_EDUCATION_INCENTIVE': '36,444.04'}\n",
      "\n",
      "{'INJURED': None, 'POSTAL': '02072', 'NAME': 'Johnson,Rick E', 'TITLE': 'Police Sergeant (Det)', 'DETAIL': None, 'OTHER': '19,246.67', 'DEPARTMENT_NAME': 'Boston Police Department', 'OVERTIME': '103,528.54', 'REGULAR': '127,626.76', 'RETRO': None, 'TOTAL_GROSS': '282,308.86', '_id': 73, 'QUINN_EDUCATION_INCENTIVE': '31,906.89'}\n",
      "\n",
      "{'INJURED': None, 'POSTAL': '02132', 'NAME': 'Flynn,John N', 'TITLE': 'Police Captain/DDC', 'DETAIL': None, 'OTHER': '24,500.72', 'DEPARTMENT_NAME': 'Boston Police Department', 'OVERTIME': '52,426.10', 'REGULAR': '164,187.55', 'RETRO': None, 'TOTAL_GROSS': '282,161.32', '_id': 74, 'QUINN_EDUCATION_INCENTIVE': '41,046.95'}\n",
      "\n",
      "{'INJURED': None, 'POSTAL': '02191', 'NAME': 'Conway,John A', 'TITLE': 'Police Officer Hdq Dispatch', 'DETAIL': '38,916.00', 'OTHER': '11,954.97', 'DEPARTMENT_NAME': 'Boston Police Department', 'OVERTIME': '117,471.38', 'REGULAR': '103,183.38', 'RETRO': None, 'TOTAL_GROSS': '281,844.28', '_id': 75, 'QUINN_EDUCATION_INCENTIVE': '10,318.55'}\n",
      "\n",
      "{'INJURED': None, 'POSTAL': '02171', 'NAME': 'Bailey,Gerard W', 'TITLE': 'Supn Bpd', 'DETAIL': None, 'OTHER': '31,592.97', 'DEPARTMENT_NAME': 'Boston Police Department', 'OVERTIME': None, 'REGULAR': '200,140.70', 'RETRO': None, 'TOTAL_GROSS': '281,768.82', '_id': 76, 'QUINN_EDUCATION_INCENTIVE': '50,035.15'}\n",
      "\n",
      "{'INJURED': None, 'POSTAL': '02339', 'NAME': 'Bulman,Eric W', 'TITLE': 'Police Sergeant (Det)', 'DETAIL': None, 'OTHER': '19,246.67', 'DEPARTMENT_NAME': 'Boston Police Department', 'OVERTIME': '108,535.70', 'REGULAR': '127,626.76', 'RETRO': None, 'TOTAL_GROSS': '280,934.69', '_id': 77, 'QUINN_EDUCATION_INCENTIVE': '25,525.56'}\n",
      "\n",
      "{'INJURED': None, 'POSTAL': '02127', 'NAME': 'McGoldrick,Kevin J', 'TITLE': 'Supn Bpd', 'DETAIL': None, 'OTHER': '108,451.15', 'DEPARTMENT_NAME': 'Boston Police Department', 'OVERTIME': None, 'REGULAR': '138,255.88', 'RETRO': None, 'TOTAL_GROSS': '280,910.37', '_id': 78, 'QUINN_EDUCATION_INCENTIVE': '34,203.34'}\n",
      "\n",
      "{'INJURED': None, 'POSTAL': '02035', 'NAME': 'Ellis,Patrick J', 'TITLE': 'Dist Fire Chief', 'DETAIL': '872.00', 'OTHER': '8,119.69', 'DEPARTMENT_NAME': 'Boston Fire Department', 'OVERTIME': '32,430.39', 'REGULAR': '199,328.83', 'RETRO': None, 'TOTAL_GROSS': '240,750.91', '_id': 264, 'QUINN_EDUCATION_INCENTIVE': None}\n",
      "\n",
      "{'INJURED': None, 'POSTAL': '02132', 'NAME': 'Creaven,Jacqueline D', 'TITLE': 'Police Lieutenant', 'DETAIL': '1,540.00', 'OTHER': '6,578.47', 'DEPARTMENT_NAME': 'Boston Police Department', 'OVERTIME': '92,810.59', 'REGULAR': '144,406.11', 'RETRO': None, 'TOTAL_GROSS': '280,884.03', '_id': 79, 'QUINN_EDUCATION_INCENTIVE': '35,548.86'}\n",
      "\n",
      "{'INJURED': None, 'POSTAL': '02124', 'NAME': 'Gallagher,William', 'TITLE': 'Police Sergeant (Det)', 'DETAIL': '70,596.00', 'OTHER': '9,646.64', 'DEPARTMENT_NAME': 'Boston Police Department', 'OVERTIME': '36,969.30', 'REGULAR': '130,930.12', 'RETRO': None, 'TOTAL_GROSS': '280,874.79', '_id': 80, 'QUINN_EDUCATION_INCENTIVE': '32,732.73'}\n",
      "\n",
      "{'INJURED': None, 'POSTAL': '02128', 'NAME': 'Taxter,Lucas E', 'TITLE': 'Police Sergeant (Det)', 'DETAIL': '8,480.00', 'OTHER': '16,372.19', 'DEPARTMENT_NAME': 'Boston Police Department', 'OVERTIME': '95,708.80', 'REGULAR': '127,626.76', 'RETRO': None, 'TOTAL_GROSS': '280,094.64', '_id': 81, 'QUINN_EDUCATION_INCENTIVE': '31,906.89'}\n",
      "\n",
      "{'INJURED': None, 'POSTAL': '02170', 'NAME': 'Meade,Edward P', 'TITLE': 'Police Sergeant (Det)', 'DETAIL': '39,432.00', 'OTHER': '13,825.07', 'DEPARTMENT_NAME': 'Boston Police Department', 'OVERTIME': '62,981.49', 'REGULAR': '130,930.12', 'RETRO': None, 'TOTAL_GROSS': '279,901.41', '_id': 82, 'QUINN_EDUCATION_INCENTIVE': '32,732.73'}\n",
      "\n",
      "{'INJURED': None, 'POSTAL': '02184', 'NAME': 'Doherty,Sean M', 'TITLE': 'Police Sergeant (Det)', 'DETAIL': None, 'OTHER': '11,465.97', 'DEPARTMENT_NAME': 'Boston Police Department', 'OVERTIME': '111,282.71', 'REGULAR': '130,930.12', 'RETRO': None, 'TOTAL_GROSS': '279,864.87', '_id': 83, 'QUINN_EDUCATION_INCENTIVE': '26,186.07'}\n",
      "\n",
      "{'INJURED': None, 'POSTAL': '02346', 'NAME': 'Donlon,Paul L', 'TITLE': 'Police Sergeant (Det)', 'DETAIL': None, 'OTHER': '3,099.58', 'DEPARTMENT_NAME': 'Boston Police Department', 'OVERTIME': '118,803.73', 'REGULAR': '126,140.84', 'RETRO': None, 'TOTAL_GROSS': '279,579.55', '_id': 84, 'QUINN_EDUCATION_INCENTIVE': '31,535.40'}\n",
      "\n",
      "{'INJURED': '27,046.04', 'POSTAL': '02129', 'NAME': 'Wilson,Charles E', 'TITLE': 'Supn Bpd', 'DETAIL': None, 'OTHER': '29,092.97', 'DEPARTMENT_NAME': 'Boston Police Department', 'OVERTIME': None, 'REGULAR': '173,094.66', 'RETRO': None, 'TOTAL_GROSS': '279,268.82', '_id': 85, 'QUINN_EDUCATION_INCENTIVE': '50,035.15'}\n",
      "\n",
      "{'INJURED': None, 'POSTAL': '02127', 'NAME': 'Cotter,Winifred', 'TITLE': 'Supn Bpd', 'DETAIL': None, 'OTHER': '29,042.97', 'DEPARTMENT_NAME': 'Boston Police Department', 'OVERTIME': None, 'REGULAR': '200,140.70', 'RETRO': None, 'TOTAL_GROSS': '279,218.82', '_id': 86, 'QUINN_EDUCATION_INCENTIVE': '50,035.15'}\n",
      "\n",
      "{'INJURED': '6,903.44', 'POSTAL': '02032', 'NAME': 'Hegarty,Michael J', 'TITLE': 'Police Lieutenant', 'DETAIL': '44,935.00', 'OTHER': '12,944.92', 'DEPARTMENT_NAME': 'Boston Police Department', 'OVERTIME': '43,791.59', 'REGULAR': '135,067.53', 'RETRO': None, 'TOTAL_GROSS': '279,118.60', '_id': 87, 'QUINN_EDUCATION_INCENTIVE': '35,476.12'}\n",
      "\n",
      "{'INJURED': '110,828.13', 'POSTAL': '02132', 'NAME': 'Keeley,Dennis L', 'TITLE': 'District Fire Chief Tech-ADR', 'DETAIL': None, 'OTHER': '142,645.01', 'DEPARTMENT_NAME': 'Boston Fire Department', 'OVERTIME': '2,011.53', 'REGULAR': '23,495.43', 'RETRO': None, 'TOTAL_GROSS': '278,980.10', '_id': 88, 'QUINN_EDUCATION_INCENTIVE': None}\n",
      "\n",
      "{'INJURED': '80,089.94', 'POSTAL': '02131', 'NAME': 'Baston,Nora L', 'TITLE': 'Supn Bpd', 'DETAIL': None, 'OTHER': '29,042.97', 'DEPARTMENT_NAME': 'Boston Police Department', 'OVERTIME': None, 'REGULAR': '119,756.69', 'RETRO': None, 'TOTAL_GROSS': '278,851.25', '_id': 89, 'QUINN_EDUCATION_INCENTIVE': '49,961.65'}\n",
      "\n",
      "{'INJURED': None, 'POSTAL': '02052', 'NAME': 'McCarthy,Michael P', 'TITLE': 'Police Lieutenant (Det)', 'DETAIL': None, 'OTHER': '18,579.44', 'DEPARTMENT_NAME': 'Boston Police Department', 'OVERTIME': '78,027.15', 'REGULAR': '145,775.26', 'RETRO': None, 'TOTAL_GROSS': '278,825.89', '_id': 90, 'QUINN_EDUCATION_INCENTIVE': '36,444.04'}\n",
      "\n",
      "{'INJURED': None, 'POSTAL': '02360', 'NAME': 'Buchanan,Mark', 'TITLE': 'Dep Fire Chief Administration', 'DETAIL': '10,973.00', 'OTHER': '13,764.76', 'DEPARTMENT_NAME': 'Boston Fire Department', 'OVERTIME': '16,898.58', 'REGULAR': '236,920.64', 'RETRO': None, 'TOTAL_GROSS': '278,556.98', '_id': 91, 'QUINN_EDUCATION_INCENTIVE': None}\n",
      "\n",
      "{'INJURED': None, 'POSTAL': '02124', 'NAME': 'Houlder,Theron S.', 'TITLE': 'Fire Fighter', 'DETAIL': '103,194.00', 'OTHER': '550.00', 'DEPARTMENT_NAME': 'Boston Fire Department', 'OVERTIME': '47,729.04', 'REGULAR': '126,972.94', 'RETRO': None, 'TOTAL_GROSS': '278,445.98', '_id': 92, 'QUINN_EDUCATION_INCENTIVE': None}\n",
      "\n"
     ]
    }
   ],
   "source": [
    "n = 100\n",
    "print(\"== Requesting \", str(n), \"entries from \", rid, \" ==\")\n",
    "print(\"\")\n",
    "re = eat_result(n_recent(rid, n))\n",
    "for re_iterator in range(0, len(re)):\n",
    "    print(str(re[re_iterator]) + '\\n')"
   ]
  },
  {
   "cell_type": "markdown",
   "metadata": {},
   "source": [
    "## Formatting and Storing the data"
   ]
  },
  {
   "cell_type": "markdown",
   "metadata": {},
   "source": [
    "### Formatting\n",
    "- Two obvious options are the [pandas](https://pypi.org/project/pandas/) dataframe and the [numpy](https://pypi.org/project/numpy/) matrix.\n",
    "\n",
    "### Storing\n",
    "- As the data may be updated, changed, accessed in portions, and combined, the fan-favorite .csv may not be ideal, with abysmal reading and writing times. It remains an option, but not the best one. \n",
    "- Another option is the [.h5](https://www.pytables.org/cookbook/inmemory_hdf5_files.html) file, which offers significant improvements."
   ]
  },
  {
   "cell_type": "markdown",
   "metadata": {},
   "source": [
    "## Visualizing the data"
   ]
  },
  {
   "cell_type": "code",
   "execution_count": null,
   "metadata": {},
   "outputs": [],
   "source": []
  }
 ],
 "metadata": {
  "kernelspec": {
   "display_name": "Python 3",
   "language": "python",
   "name": "python3"
  },
  "language_info": {
   "codemirror_mode": {
    "name": "ipython",
    "version": 3
   },
   "file_extension": ".py",
   "mimetype": "text/x-python",
   "name": "python",
   "nbconvert_exporter": "python",
   "pygments_lexer": "ipython3",
   "version": "3.8.5"
  }
 },
 "nbformat": 4,
 "nbformat_minor": 4
}
