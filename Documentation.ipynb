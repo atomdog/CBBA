{
 "cells": [
  {
   "cell_type": "markdown",
   "metadata": {},
   "source": [
    "# Process notes"
   ]
  },
  {
   "cell_type": "markdown",
   "metadata": {},
   "source": [
    "## Data sources"
   ]
  },
  {
   "cell_type": "markdown",
   "metadata": {},
   "source": [
    "### AnalyzeBoston\n",
    "[AnalyzeBoston](https://data.boston.gov/) has over 200 datasets pertaining to the city, varying in topic, size, and update frequency. \n",
    "While downloading a .csv manually works, some datasets are updated frequently enough that downloads may become stale. However, an API endpoint is accessible that allows for up-to-date access.\n",
    "\n",
    "- In regards to this project, there are a few core datasets:\n",
    "    - [Employee Earnings Reports](https://data.boston.gov/dataset/employee-earnings-report) *(static by year)*\n",
    "    \n",
    "    - [Field Interrogation and Observation Data](https://data.boston.gov/dataset/boston-police-department-fio) *(updated weekly)*\n",
    "    \n",
    "    - [Checkbook Explorer](https://data.boston.gov/dataset/checkbook-explorer) *(updated monthly)*\n",
    "    \n",
    "    - [Crime Incident Reports](https://data.boston.gov/dataset/crime-incident-reports-august-2015-to-date-source-new-system) *(updated daily)*\n",
    "    \n",
    "#### Analyze Boston API\n",
    "- Each database is represented using a resource ID formatted as;\n",
    "  - xxxxxxxx-xxxx-xxxx-xxxx-xxxxxxxxxxxx\n",
    "- Below is a function which returns a dictionary of some relevant ones.\n"
   ]
  },
  {
   "cell_type": "code",
   "execution_count": 1,
   "metadata": {},
   "outputs": [],
   "source": [
    "#parameters: none\n",
    "#returns: a dictionary, with plaintext keys corresponding to the resource ID\n",
    "#notes: the resource ID is data.boston.gov 's internal identifier for datasets\n",
    "def getSourceDict():\n",
    "    sources = {\"CRIMEINCIDENTREPORTS_2022\": \"313e56df-6d77-49d2-9c49-ee411f10cf58\",\n",
    "                \"CRIMEINCIDENTREPORTS_2021\": \"f4495ee9-c42c-4019-82c1-d067f07e45d2\",\n",
    "                \"CRIMEINCIDENTREPORTS_2020\": \"be047094-85fe-4104-a480-4fa3d03f9623\",\n",
    "                \"CRIMEINCIDENTREPORTS_2019\": \"34e0ae6b-8c94-4998-ae9e-1b51551fe9ba\",\n",
    "                \"CRIMEINCIDENTREPORTS_2018\": \"e86f8e38-a23c-4c1a-8455-c8f94210a8f1\",\n",
    "                \"SHOOTINGS\": \"313e56df-6d77-49d2-9c49-ee411f10cf58\",\n",
    "                \"SHOTSFIRED\": \"e16705ca-49ce-4803-84c1-c9848aa63024\",\n",
    "                \"FIELDINTERROGATION_2020\": \"64dd32d9-26f9-4275-9265-97fa3de7e22b\",\n",
    "                \"FIELDINTERROGATION_2019\": \"03f33240-47c1-46f2-87ae-bcdabec092ad\",\n",
    "                \"FIELDINTERROGATION_2016\": \"35f3fb8f-4a01-4242-9758-f664e7ead125\",\n",
    "                \"FIREARM_RECOVERY\": \"a3d2260f-8a41-4e95-9134-d14711b0f954\",\n",
    "                \"EARNINGS_2021\": \"ec5aaf93-1509-4641-9310-28e62e028457\",\n",
    "                \"EARNINGS_2020\": \"e2e2c23a-6fc7-4456-8751-5321d8aa869b\",\n",
    "                \"EARNINGS_2019\": \"3bdfe6dc-3a81-49ce-accc-22161e2f7e74\",\n",
    "                \"EARNINGS_2018\": \"31358fd1-849a-48e0-8285-e813f6efbdf1\",\n",
    "                \"EARNINGS_2017\": \"70129b87-bd4e-49bb-aa09-77644da73503\",\n",
    "                \"EARNINGS_2016\": \"8368bd3d-3633-4927-8355-2a2f9811ab4f\",\n",
    "                \"EARNINGS_2015\": \"2ff6343f-850d-46e7-98d1-aca79b619fd6\",\n",
    "                \"EARNINGS_2014\": \"941c9de4-fb91-41bb-ad5a-43a35f5dc80f\",\n",
    "                \"EARNINGS_2013\": \"fac6a421-72fb-4f85-b4ac-4aca1e32d94e\",\n",
    "                \"EARNINGS_2012\": \"d96dd8ad-9396-484a-87af-4d15e9e2ccb2\",\n",
    "                \"EARNINGS_2011\": \"a861eff8-facc-4372-9b2d-262c2887b19e\",\n",
    "                \"CHECKBOOK_2022\": \"0a261d4e-3eec-4bac-bf72-b9a7aa77b033\",\n",
    "                \"CHECKBOOK_2021\": \"32897eeb-d9ca-494f-93b1-991c50bcd6a6\"\n",
    "                }\n",
    "    return(sources)"
   ]
  },
  {
   "cell_type": "markdown",
   "metadata": {},
   "source": [
    "- Using the [requests](https://pypi.org/project/requests/) library, these databases can be accessed directly"
   ]
  },
  {
   "cell_type": "code",
   "execution_count": 2,
   "metadata": {},
   "outputs": [],
   "source": [
    "import requests"
   ]
  },
  {
   "cell_type": "markdown",
   "metadata": {},
   "source": [
    "- A helper function to handle converting the name of the database into the RID, and a helper function to list the names of all the sources"
   ]
  },
  {
   "cell_type": "code",
   "execution_count": 3,
   "metadata": {},
   "outputs": [],
   "source": [
    "#parameters: the plaintext name of the source you'd like to get the resource ID for\n",
    "#returns: a string with the resource ID corresponding to your parameter\n",
    "def sourcetorid(sourcename):\n",
    "    rid = getSourceDict()[sourcename]\n",
    "    return(rid)\n",
    "#parameters: none\n",
    "#returns: a list of all selectable sources in the source dictionary\n",
    "def list_sources():\n",
    "    sourcelist=[]\n",
    "    q = getSourceDict()\n",
    "    for key in q:\n",
    "        sourcelist.append(key)\n",
    "    return(sourcelist)"
   ]
  },
  {
   "cell_type": "markdown",
   "metadata": {},
   "source": [
    "- Some basic queries:"
   ]
  },
  {
   "cell_type": "code",
   "execution_count": 4,
   "metadata": {},
   "outputs": [],
   "source": [
    "#parameters: the resource id, and an integer; n\n",
    "#returns: the response from the database at resource id rid, including only the first n entries\n",
    "#notes: resource id, int n -> json (results which are the first n)\n",
    "def n_recent(rid, n):\n",
    "    r = requests.get(\"https://data.boston.gov/api/3/action/datastore_search?resource_id=\"+rid+\"&limit=\"+str(n))\n",
    "    return(r.json())\n",
    "\n",
    "#parameters: the resource id, and a string; n\n",
    "#returns: the response from the database at resource id rid, including only the entries which contain string n\n",
    "#notes: resource id, string n -> json (results which are those which contain n)\n",
    "def n_contained(rid, n):\n",
    "    r = requests.get(\"https://data.boston.gov/api/3/action/datastore_search?resource_id=\"+rid+\"&q=\"+str(n))\n",
    "    return(r.json())\n",
    "\n",
    "#parameters: the resource id, an integer; and an integer; n\n",
    "#returns: the response from the database at resource id rid, including only r entries after index n\n",
    "#notes: resource id, int r (the number of results to return), int n (the starting index) -> json (results which start at n, go to n+r)\n",
    "def n_skip(rid, r, n):\n",
    "    r = requests.get(\"https://data.boston.gov/api/3/action/datastore_search?resource_id=\"+rid+\"$top=\",r,\"&$skip=\",n)\n",
    "    return(r.json())\n"
   ]
  },
  {
   "cell_type": "markdown",
   "metadata": {},
   "source": [
    "- Two functions to parse the returned json(s):"
   ]
  },
  {
   "cell_type": "code",
   "execution_count": 5,
   "metadata": {},
   "outputs": [],
   "source": [
    "#parameters: a json returned by a request function such as n_recent, n_contained, and n_skip\n",
    "#returns: the field names of the same json\n",
    "#notes: request json -> list of fields in the result w/ types and names\n",
    "def return_fields(returnedjson):\n",
    "    return(returnedjson['result']['fields'])\n",
    "\n",
    "#parameters: a json returned by a request function such as n_recent, n_contained, and n_skip\n",
    "#returns: the same json, stripped of metadata\n",
    "#notes: request result -> nice format to parse\n",
    "def eat_result(eson):\n",
    "    re = eson['result']['records']\n",
    "    return(re)"
   ]
  },
  {
   "cell_type": "markdown",
   "metadata": {},
   "source": [
    "- Requesting the data (example):"
   ]
  },
  {
   "cell_type": "code",
   "execution_count": 6,
   "metadata": {},
   "outputs": [
    {
     "name": "stdout",
     "output_type": "stream",
     "text": [
      "==== Available sources: ====\n",
      "CRIMEINCIDENTREPORTS_2022\n",
      "CRIMEINCIDENTREPORTS_2021\n",
      "CRIMEINCIDENTREPORTS_2020\n",
      "CRIMEINCIDENTREPORTS_2019\n",
      "CRIMEINCIDENTREPORTS_2018\n",
      "SHOOTINGS\n",
      "SHOTSFIRED\n",
      "FIELDINTERROGATION_2020\n",
      "FIELDINTERROGATION_2019\n",
      "FIELDINTERROGATION_2016\n",
      "FIREARM_RECOVERY\n",
      "EARNINGS_2021\n",
      "EARNINGS_2020\n",
      "EARNINGS_2019\n",
      "EARNINGS_2018\n",
      "CHECKBOOK_2022\n",
      "CHECKBOOK_2021\n"
     ]
    }
   ],
   "source": [
    "#calling list_sources to get a list of all available sources in the dictionary\n",
    "sourcenames = list_sources()\n",
    "print(\"==== Available sources: ====\")\n",
    "for x in range(0, len(sourcenames)):\n",
    "    #iterating through that list and printing it\n",
    "    print(sourcenames[x])"
   ]
  },
  {
   "cell_type": "markdown",
   "metadata": {},
   "source": [
    "- Selecting and pulling the fields (the column names) of a desired source:"
   ]
  },
  {
   "cell_type": "code",
   "execution_count": 7,
   "metadata": {},
   "outputs": [
    {
     "name": "stdout",
     "output_type": "stream",
     "text": [
      "==  e2e2c23a-6fc7-4456-8751-5321d8aa869b ( EARNINGS_2020 )  fields: ==\n",
      "{'type': 'int', 'id': '_id'}\n",
      "{'type': 'text', 'id': 'NAME'}\n",
      "{'type': 'text', 'id': 'DEPARTMENT_NAME'}\n",
      "{'type': 'text', 'id': 'TITLE'}\n",
      "{'type': 'text', 'id': 'REGULAR'}\n",
      "{'type': 'text', 'id': 'RETRO'}\n",
      "{'type': 'text', 'id': 'OTHER'}\n",
      "{'type': 'text', 'id': 'OVERTIME'}\n",
      "{'type': 'text', 'id': 'INJURED'}\n",
      "{'type': 'text', 'id': 'DETAIL'}\n",
      "{'type': 'text', 'id': 'QUINN / EDUCATION INCENTIVE'}\n",
      "{'type': 'text', 'id': 'TOTAL EARNINGS'}\n",
      "{'type': 'text', 'id': 'POSTAL'}\n"
     ]
    }
   ],
   "source": [
    "#selecting the plaintext name of our desired database\n",
    "selected=\"EARNINGS_2020\"\n",
    "#converting that name into a resource ID\n",
    "rid = sourcetorid(selected)\n",
    "#getting the fields of aforementioned database\n",
    "rid_fields = return_fields(n_recent(rid, 1))\n",
    "#printing the field names\n",
    "print(\"== \", rid,\"(\",selected, \")\", \" fields: ==\")\n",
    "for x in range(0, len(rid_fields)):\n",
    "    print(rid_fields[x])"
   ]
  },
  {
   "cell_type": "markdown",
   "metadata": {},
   "source": [
    "- Getting the first <i>n</i> entries from the dataset:"
   ]
  },
  {
   "cell_type": "code",
   "execution_count": 8,
   "metadata": {},
   "outputs": [
    {
     "name": "stdout",
     "output_type": "stream",
     "text": [
      "== Requesting  5 entries from  e2e2c23a-6fc7-4456-8751-5321d8aa869b  ==\n",
      "\n",
      "{'INJURED': None, 'POSTAL': '02186', 'NAME': 'Smith,Sean P', 'TITLE': 'Police Lieutenant', 'DETAIL': ' $45,210.00 ', 'OTHER': ' $13,160.94 ', 'DEPARTMENT_NAME': 'Boston Police Department', 'OVERTIME': ' $124,395.57 ', 'REGULAR': ' $145,787.56 ', 'RETRO': None, '_id': 1, 'TOTAL EARNINGS': ' $365,001.16 ', 'QUINN / EDUCATION INCENTIVE': ' $36,447.09 '}\n",
      "\n",
      "{'INJURED': None, 'POSTAL': '02134', 'NAME': 'Lee,Waiman', 'TITLE': 'Police Detective', 'DETAIL': ' $111,688.00 ', 'OTHER': ' $16,324.27 ', 'DEPARTMENT_NAME': 'Boston Police Department', 'OVERTIME': ' $96,126.59 ', 'REGULAR': ' $108,803.25 ', 'RETRO': None, '_id': 2, 'TOTAL EARNINGS': ' $360,142.89 ', 'QUINN / EDUCATION INCENTIVE': ' $27,200.78 '}\n",
      "\n",
      "{'INJURED': None, 'POSTAL': '02136', 'NAME': 'Brown,John M', 'TITLE': 'Police Sergeant (Det)', 'DETAIL': ' $5,088.00 ', 'OTHER': ' $19,672.83 ', 'DEPARTMENT_NAME': 'Boston Police Department', 'OVERTIME': ' $155,123.11 ', 'REGULAR': ' $132,699.44 ', 'RETRO': None, '_id': 3, 'TOTAL EARNINGS': ' $345,758.44 ', 'QUINN / EDUCATION INCENTIVE': ' $33,175.06 '}\n",
      "\n",
      "{'INJURED': ' $3,548.13 ', 'POSTAL': '02081', 'NAME': 'Danilecki,John H', 'TITLE': 'Police Captain', 'DETAIL': ' $43,200.00 ', 'OTHER': ' $24,504.13 ', 'DEPARTMENT_NAME': 'Boston Police Department', 'OVERTIME': ' $64,326.60 ', 'REGULAR': ' $162,770.15 ', 'RETRO': None, '_id': 4, 'TOTAL EARNINGS': ' $339,928.48 ', 'QUINN / EDUCATION INCENTIVE': ' $41,579.47 '}\n",
      "\n",
      "{'INJURED': None, 'POSTAL': '02132', 'NAME': 'Barrett,Thomas E.', 'TITLE': 'Police Sergeant (Det)', 'DETAIL': None, 'OTHER': ' $16,723.95 ', 'DEPARTMENT_NAME': 'Boston Police Department', 'OVERTIME': ' $156,754.23 ', 'REGULAR': ' $132,699.44 ', 'RETRO': None, '_id': 5, 'TOTAL EARNINGS': ' $339,352.68 ', 'QUINN / EDUCATION INCENTIVE': ' $33,175.06 '}\n",
      "\n"
     ]
    }
   ],
   "source": [
    "#choosing the number of entries we want\n",
    "n = 5\n",
    "print(\"== Requesting \", str(n), \"entries from \", rid, \" ==\")\n",
    "print(\"\")\n",
    "#stripping the metadata from the response\n",
    "re = eat_result(n_recent(rid, n))\n",
    "#printing the n entries\n",
    "for re_iterator in range(0, len(re)):\n",
    "    print(str(re[re_iterator]) + '\\n')"
   ]
  },
  {
   "cell_type": "markdown",
   "metadata": {},
   "source": [
    "## Formatting and Storing the data"
   ]
  },
  {
   "cell_type": "markdown",
   "metadata": {},
   "source": [
    "### Formatting\n",
    "- The data must be cleaned for use in libraries and passed to a datatype\n",
    "- Two popular options, often best used in conjunction, are the [numpy](https://pypi.org/project/numpy/) matrix; "
   ]
  },
  {
   "cell_type": "code",
   "execution_count": 9,
   "metadata": {
    "scrolled": true
   },
   "outputs": [
    {
     "name": "stdout",
     "output_type": "stream",
     "text": [
      "['_id', 'NAME', 'DEPARTMENT_NAME', 'TITLE', 'REGULAR', 'RETRO', 'OTHER', 'OVERTIME', 'INJURED', 'DETAIL', 'QUINN/EDUCATION INCENTIVE', 'TOTAL EARNINGS', 'POSTAL']\n",
      "[['1.0' 'Williams,David C.' 'Boston Police Department' ... '4375.69'\n",
      "  '677680.65' '2356.0']\n",
      " ['2.0' 'Earley,John W' 'Boston Police Department' ... '6532.63'\n",
      "  '250893.61' '2131.0']\n",
      " ['3.0' 'Bucelewicz,Helen' 'Boston Police Department' ... 'None'\n",
      "  '208676.89' '2135.0']\n",
      " ...\n",
      " ['23603.0' 'Zlody,Maura T.' 'Environment Department' ... 'None'\n",
      "  '67533.73' '2215.0']\n",
      " ['23604.0' 'Zoran,Mor' 'ASD Office of Budget Mangmnt' ... 'None'\n",
      "  '84905.2' '2113.0']\n",
      " ['23605.0' 'Zuares,David Jonathan' 'Law Department' ... 'None'\n",
      "  '56483.36' '2127.0']]\n",
      "(23605, 13)\n"
     ]
    }
   ],
   "source": [
    "\n",
    "import numpy as np\n",
    "#specifying the number of entries\n",
    "#using 100000 to get all of the entries, if there are less than n it only returns what there is\n",
    "n = 100000\n",
    "#selecting the database\n",
    "selected=\"EARNINGS_2018\"\n",
    "#converting the source name to a resource ID\n",
    "rid = sourcetorid(selected)\n",
    "#getting the field names\n",
    "rid_fields = return_fields(n_recent(rid, 1))\n",
    "rid_names = []\n",
    "rid_types = []\n",
    "#iterating through the field names\n",
    "for x in range(0, len(rid_fields)):\n",
    "    #adding the name of this field to a list rid_names\n",
    "    rid_names.append(rid_fields[x]['id'])\n",
    "    #adding the datatype of this field to a list rid_type\n",
    "    rid_types.append(rid_fields[x]['type'])\n",
    "#stripping the result of metadata\n",
    "re = eat_result(n_recent(rid, n))\n",
    "\n",
    "#beginning conversion of json to numpy matrix, which is far easier to work with\n",
    "\n",
    "our_array = []\n",
    "for re_iterator in range(0, len(re)):\n",
    "    iterating_list = []\n",
    "    for name in rid_names:\n",
    "        current_type = rid_types[rid_names.index(name)]\n",
    "        #patching 'None', if we have, for some reason, a None value -> we convert it into a string\n",
    "        #this is to prevent None type errors\n",
    "        if(re[re_iterator][name] is None):\n",
    "            re[re_iterator][name] = \"None\"\n",
    "        #some string cleaning and correction of incorrectly labelled fields\n",
    "        #if aside from comma's and decimal points, this string only contains numerals\n",
    "        if(str(re[re_iterator][name]).replace(\",\",\"\").replace(\".\",\"\").isnumeric()):\n",
    "            #we remove the commas, and classify it as an int\n",
    "            re[re_iterator][name]=str(re[re_iterator][name]).replace(\",\",\"\")\n",
    "            current_type = \"int\"\n",
    "        #if this is text according to data.boston.gov, we do nothing as of now\n",
    "        if(current_type == \"text\"):\n",
    "            iterating_list.append(str(re[re_iterator][name]))\n",
    "        #if this is already classified as an int, we remove commas and convert it into a float\n",
    "        if(current_type == \"int\"):\n",
    "            re[re_iterator][name]=str(re[re_iterator][name]).replace(\",\",\"\")\n",
    "            iterating_list.append(float(re[re_iterator][name]))\n",
    "    iterating_list = np.array(iterating_list)\n",
    "    our_array.append(iterating_list)\n",
    "#make the final conversion to a numpy matrix\n",
    "our_array = np.array(our_array)\n",
    "print(rid_names)\n",
    "print(our_array)\n",
    "#asserting that we have an n long array with the same number of columns as \n",
    "#field names\n",
    "#assert our_array.shape[0] == n\n",
    "assert our_array.shape[1] == len(rid_names)\n",
    "\n",
    "print(our_array.shape)"
   ]
  },
  {
   "cell_type": "markdown",
   "metadata": {},
   "source": [
    "- and the [pandas](https://pypi.org/project/pandas/) dataframe "
   ]
  },
  {
   "cell_type": "code",
   "execution_count": 10,
   "metadata": {
    "scrolled": false
   },
   "outputs": [
    {
     "name": "stdout",
     "output_type": "stream",
     "text": [
      "   _id               NAME           DEPARTMENT_NAME               TITLE  \\\n",
      "0  1.0  Williams,David C.  Boston Police Department      Police Officer   \n",
      "1  2.0      Earley,John W  Boston Police Department   Police Lieutenant   \n",
      "2  3.0   Bucelewicz,Helen  Boston Police Department      Police Officer   \n",
      "3  4.0    Evans,William B  Boston Police Department  Commissioner (Bpd)   \n",
      "4  5.0     Jones,Ronnie C  Boston Police Department      Police Officer   \n",
      "\n",
      "     REGULAR     RETRO      OTHER  OVERTIME  INJURED   DETAIL  \\\n",
      "0   95184.68      None  503025.78  45176.88  5307.62  24610.0   \n",
      "1   26130.54  13001.47  204120.61    668.36     None    440.0   \n",
      "2    8676.89      None   200000.0      None     None     None   \n",
      "3  149999.93   3461.56  165858.44      None     None     None   \n",
      "4  462149.98      None  114973.46      None     None     None   \n",
      "\n",
      "  QUINN/EDUCATION INCENTIVE TOTAL EARNINGS  POSTAL  \n",
      "0                   4375.69      677680.65  2356.0  \n",
      "1                   6532.63      250893.61  2131.0  \n",
      "2                      None      208676.89  2135.0  \n",
      "3                      None      319319.93  2127.0  \n",
      "4                      None      577123.44  2126.0  \n"
     ]
    }
   ],
   "source": [
    "import pandas as pd\n",
    "\n",
    "our_dataframe = pd.DataFrame(data=our_array, columns=rid_names)\n",
    "print(our_dataframe.head())"
   ]
  },
  {
   "cell_type": "markdown",
   "metadata": {},
   "source": [
    "### Storing\n",
    "- As the data may be updated, changed, accessed in portions, and combined, the fan-favorite .csv may not be ideal, with abysmal reading and writing times. It remains an option, but not the best one. \n",
    "- Another option is the [.h5](https://www.pytables.org/cookbook/inmemory_hdf5_files.html) file, which offers significant improvements in read and write time and allows for in-memory editing."
   ]
  },
  {
   "cell_type": "markdown",
   "metadata": {},
   "source": [
    "### Cleaning and preparing to visualize\n"
   ]
  },
  {
   "cell_type": "code",
   "execution_count": 11,
   "metadata": {},
   "outputs": [],
   "source": [
    "\n",
    "\n",
    "departments = our_dataframe['DEPARTMENT_NAME']\n",
    "salaries = our_dataframe[\"OVERTIME\"]\n",
    "title = our_dataframe[\"TITLE\"]\n",
    "title = our_dataframe[\"INJURED\"]\n",
    "regular_salaries = our_dataframe[\"REGULAR\"]\n",
    "overtime_salaries = our_dataframe[\"OVERTIME\"]\n",
    "#defining a dictionary to group salaries by\n",
    "salaries_per_department = {}\n",
    "#combining BPS and other education into one broad 'education' department\n",
    "for x in range(0, len(departments)):\n",
    "    if(\"BPS\" in departments[x] or \"K-8\" in departments[x] or \"Academy\" in departments[x] or \"Elementary\" in departments[x] or \"Learning\" in departments[x]):\n",
    "        departments[x]=\"Education\"\n",
    "    #if the department of the current salary is not already a key in salaries_per_department dictionary ->\n",
    "    #if this is a valid salary entry, clean the text of non numeric characters, and do a float conversion\n",
    "    if(departments[x]!=\"None\" and salaries[x]!=\"None\" and salaries[x]!=\"OVERTIME\"):\n",
    "        if(not(departments[x] in salaries_per_department)):\n",
    "            salaries[x]=salaries[x].replace(\"$\", \"\")\n",
    "            salaries[x]=salaries[x].replace(\",\", \"\")\n",
    "            salaries[x]=salaries[x].replace(\"(\", \"\")\n",
    "            salaries[x]=salaries[x].replace(\")\", \"\")\n",
    "            salaries[x]=salaries[x].replace(\"-\", \"0\")\n",
    "            salaries_per_department[departments[x]] = [float(salaries[x])]\n",
    "        #if this is already a key, we clean the text, do a float conversion, and add it to the the keyed list\n",
    "        elif((departments[x] in salaries_per_department)):\n",
    "            salaries[x]=salaries[x].replace(\"$\", \"\")\n",
    "            salaries[x]=salaries[x].replace(\",\", \"\")\n",
    "            salaries[x]=salaries[x].replace(\"(\", \"\")\n",
    "            salaries[x]=salaries[x].replace(\")\", \"\")\n",
    "            salaries[x]=salaries[x].replace(\"-\", \"0\")\n",
    "            salaries_per_department[departments[x]].append(float(salaries[x]))"
   ]
  },
  {
   "cell_type": "markdown",
   "metadata": {},
   "source": [
    "## Visualizing the data"
   ]
  },
  {
   "cell_type": "markdown",
   "metadata": {},
   "source": [
    "### Scattering the salaries by department, "
   ]
  },
  {
   "cell_type": "code",
   "execution_count": 1,
   "metadata": {
    "scrolled": true
   },
   "outputs": [
    {
     "ename": "NameError",
     "evalue": "name 'salaries_per_department' is not defined",
     "output_type": "error",
     "traceback": [
      "\u001b[0;31m---------------------------------------------------------------------------\u001b[0m",
      "\u001b[0;31mNameError\u001b[0m                                 Traceback (most recent call last)",
      "\u001b[0;32m<ipython-input-1-0a7db7d4d2c4>\u001b[0m in \u001b[0;36m<module>\u001b[0;34m\u001b[0m\n\u001b[1;32m      4\u001b[0m \u001b[0mpoints\u001b[0m \u001b[0;34m=\u001b[0m \u001b[0;34m[\u001b[0m\u001b[0;34m]\u001b[0m\u001b[0;34m\u001b[0m\u001b[0;34m\u001b[0m\u001b[0m\n\u001b[1;32m      5\u001b[0m \u001b[0mpoints_summed\u001b[0m \u001b[0;34m=\u001b[0m \u001b[0;34m[\u001b[0m\u001b[0;34m]\u001b[0m\u001b[0;34m\u001b[0m\u001b[0;34m\u001b[0m\u001b[0m\n\u001b[0;32m----> 6\u001b[0;31m \u001b[0;32mfor\u001b[0m \u001b[0mx\u001b[0m \u001b[0;32min\u001b[0m \u001b[0msalaries_per_department\u001b[0m\u001b[0;34m:\u001b[0m\u001b[0;34m\u001b[0m\u001b[0;34m\u001b[0m\u001b[0m\n\u001b[0m\u001b[1;32m      7\u001b[0m     \u001b[0msummation\u001b[0m\u001b[0;34m=\u001b[0m\u001b[0;36m0\u001b[0m\u001b[0;34m\u001b[0m\u001b[0;34m\u001b[0m\u001b[0m\n\u001b[1;32m      8\u001b[0m     \u001b[0;32mfor\u001b[0m \u001b[0my\u001b[0m \u001b[0;32min\u001b[0m \u001b[0mrange\u001b[0m\u001b[0;34m(\u001b[0m\u001b[0;36m0\u001b[0m\u001b[0;34m,\u001b[0m \u001b[0mlen\u001b[0m\u001b[0;34m(\u001b[0m\u001b[0msalaries_per_department\u001b[0m\u001b[0;34m[\u001b[0m\u001b[0mx\u001b[0m\u001b[0;34m]\u001b[0m\u001b[0;34m)\u001b[0m\u001b[0;34m)\u001b[0m\u001b[0;34m:\u001b[0m\u001b[0;34m\u001b[0m\u001b[0;34m\u001b[0m\u001b[0m\n",
      "\u001b[0;31mNameError\u001b[0m: name 'salaries_per_department' is not defined"
     ]
    }
   ],
   "source": [
    "import seaborn as sns\n",
    "import matplotlib.pyplot as plt\n",
    "\n",
    "points = []\n",
    "points_summed = []\n",
    "for x in salaries_per_department:\n",
    "    summation=0\n",
    "    for y in range(0, len(salaries_per_department[x])):\n",
    "        summation+=salaries_per_department[x][y]\n",
    "        point = [x, salaries_per_department[x][y]]\n",
    "        points.append(point)\n",
    "    points_summed.append([x, summation])\n",
    "        \n",
    "our_cleaned_dataframe = pd.DataFrame(points, columns=[\"DEPARTMENT NAME\", \"OVERTIME\"])\n",
    "our_cleaned_sum_dataframe = pd.DataFrame(points_summed, columns=[\"DEPARTMENT NAME\", \"SUM SALARY PAYOUT\"])\n",
    "\n",
    "plt.ticklabel_format(style='plain', axis='y')\n",
    "plt.xticks(rotation=90)\n",
    "sns.set(rc = {'figure.figsize':(65,40)})\n",
    "sns.set(font_scale = 6)\n",
    "plt.invert_yaxis()\n",
    "sns.scatterplot(data=our_cleaned_dataframe, x=\"DEPARTMENT NAME\", y=\"OVERTIME\", hue=\"OVERTIME\",legend = False, s=150)\n",
    "plt.show()\n",
    "\n",
    "#to add a legend: set legend = True;\n",
    "#plt.legend(bbox_to_anchor=(1.05, 1), loc=2, borderaxespad=0.)\n",
    "\n",
    "\n",
    "\n"
   ]
  },
  {
   "cell_type": "code",
   "execution_count": 2,
   "metadata": {},
   "outputs": [
    {
     "ename": "NameError",
     "evalue": "name 'our_cleaned_sum_dataframe' is not defined",
     "output_type": "error",
     "traceback": [
      "\u001b[0;31m---------------------------------------------------------------------------\u001b[0m",
      "\u001b[0;31mNameError\u001b[0m                                 Traceback (most recent call last)",
      "\u001b[0;32m<ipython-input-2-0396ff5db154>\u001b[0m in \u001b[0;36m<module>\u001b[0;34m\u001b[0m\n\u001b[1;32m      2\u001b[0m \u001b[0mplt\u001b[0m\u001b[0;34m.\u001b[0m\u001b[0mxticks\u001b[0m\u001b[0;34m(\u001b[0m\u001b[0mrotation\u001b[0m\u001b[0;34m=\u001b[0m\u001b[0;36m90\u001b[0m\u001b[0;34m)\u001b[0m\u001b[0;34m\u001b[0m\u001b[0;34m\u001b[0m\u001b[0m\n\u001b[1;32m      3\u001b[0m \u001b[0msns\u001b[0m\u001b[0;34m.\u001b[0m\u001b[0mset\u001b[0m\u001b[0;34m(\u001b[0m\u001b[0mrc\u001b[0m \u001b[0;34m=\u001b[0m \u001b[0;34m{\u001b[0m\u001b[0;34m'figure.figsize'\u001b[0m\u001b[0;34m:\u001b[0m\u001b[0;34m(\u001b[0m\u001b[0;36m20\u001b[0m\u001b[0;34m,\u001b[0m\u001b[0;36m10\u001b[0m\u001b[0;34m)\u001b[0m\u001b[0;34m}\u001b[0m\u001b[0;34m)\u001b[0m\u001b[0;34m\u001b[0m\u001b[0;34m\u001b[0m\u001b[0m\n\u001b[0;32m----> 4\u001b[0;31m \u001b[0msns\u001b[0m\u001b[0;34m.\u001b[0m\u001b[0mscatterplot\u001b[0m\u001b[0;34m(\u001b[0m\u001b[0mdata\u001b[0m\u001b[0;34m=\u001b[0m\u001b[0mour_cleaned_sum_dataframe\u001b[0m\u001b[0;34m,\u001b[0m \u001b[0mx\u001b[0m\u001b[0;34m=\u001b[0m\u001b[0;34m\"DEPARTMENT NAME\"\u001b[0m\u001b[0;34m,\u001b[0m \u001b[0my\u001b[0m\u001b[0;34m=\u001b[0m\u001b[0;34m\"SUM SALARY PAYOUT\"\u001b[0m\u001b[0;34m,\u001b[0m \u001b[0mhue\u001b[0m\u001b[0;34m=\u001b[0m\u001b[0;34m\"DEPARTMENT NAME\"\u001b[0m\u001b[0;34m,\u001b[0m\u001b[0mlegend\u001b[0m \u001b[0;34m=\u001b[0m \u001b[0;32mFalse\u001b[0m\u001b[0;34m,\u001b[0m \u001b[0ms\u001b[0m\u001b[0;34m=\u001b[0m\u001b[0;36m100\u001b[0m\u001b[0;34m)\u001b[0m\u001b[0;34m\u001b[0m\u001b[0;34m\u001b[0m\u001b[0m\n\u001b[0m\u001b[1;32m      5\u001b[0m \u001b[0mplt\u001b[0m\u001b[0;34m.\u001b[0m\u001b[0mshow\u001b[0m\u001b[0;34m(\u001b[0m\u001b[0;34m)\u001b[0m\u001b[0;34m\u001b[0m\u001b[0;34m\u001b[0m\u001b[0m\n",
      "\u001b[0;31mNameError\u001b[0m: name 'our_cleaned_sum_dataframe' is not defined"
     ]
    },
    {
     "data": {
      "image/png": "[encoded data removed]",
      "text/plain": [
       "<Figure size 432x288 with 1 Axes>"
      ]
     },
     "metadata": {
      "needs_background": "light"
     },
     "output_type": "display_data"
    }
   ],
   "source": [
    "plt.ticklabel_format(style='plain', axis='y')\n",
    "plt.xticks(rotation=90)\n",
    "sns.set(rc = {'figure.figsize':(20,10)})\n",
    "sns.scatterplot(data=our_cleaned_sum_dataframe, x=\"DEPARTMENT NAME\", y=\"SUM SALARY PAYOUT\", hue=\"DEPARTMENT NAME\",legend = False, s=100)\n",
    "plt.show()"
   ]
  },
  {
   "cell_type": "code",
   "execution_count": null,
   "metadata": {},
   "outputs": [],
   "source": []
  },
  {
   "cell_type": "code",
   "execution_count": null,
   "metadata": {},
   "outputs": [],
   "source": []
  }
 ],
 "metadata": {
  "kernelspec": {
   "display_name": "Python 3",
   "language": "python",
   "name": "python3"
  },
  "language_info": {
   "codemirror_mode": {
    "name": "ipython",
    "version": 3
   },
   "file_extension": ".py",
   "mimetype": "text/x-python",
   "name": "python",
   "nbconvert_exporter": "python",
   "pygments_lexer": "ipython3",
   "version": "3.8.5"
  }
 },
 "nbformat": 4,
 "nbformat_minor": 4
}
