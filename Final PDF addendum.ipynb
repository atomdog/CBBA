{
 "cells": [
  {
   "cell_type": "markdown",
   "id": "9da89cc2",
   "metadata": {},
   "source": [
    "# Introduction"
   ]
  },
  {
   "cell_type": "markdown",
   "id": "3210009e",
   "metadata": {},
   "source": [
    "### Libraries"
   ]
  },
  {
   "cell_type": "markdown",
   "id": "b08297b0",
   "metadata": {},
   "source": [
    "Import [pandas](https://pandas.pydata.org/) and [numpy](https://numpy.org/) to make interacting with the data far easier"
   ]
  },
  {
   "cell_type": "code",
   "execution_count": 33,
   "id": "46ddd37a",
   "metadata": {},
   "outputs": [],
   "source": [
    "import pandas as pd\n",
    "import numpy as np"
   ]
  },
  {
   "cell_type": "markdown",
   "id": "9eee586e",
   "metadata": {},
   "source": [
    "Import [matplotlib](https://matplotlib.org/) and [seaborn](https://seaborn.pydata.org/) to create better looking visualizations later on"
   ]
  },
  {
   "cell_type": "code",
   "execution_count": 34,
   "id": "0c0d93a2",
   "metadata": {},
   "outputs": [],
   "source": [
    "import matplotlib.pyplot as plt\n",
    "import seaborn as sns"
   ]
  },
  {
   "cell_type": "markdown",
   "id": "ec6a3239",
   "metadata": {},
   "source": [
    "# The Data"
   ]
  },
  {
   "cell_type": "markdown",
   "id": "c23720ac",
   "metadata": {},
   "source": [
    "The data, sourced primarily from [analyzeboston](https://data.boston.gov/) can be downloaded from their site, accessed via the wrapper code (see documentation), or loaded from the prepared local dataset. "
   ]
  },
  {
   "cell_type": "markdown",
   "id": "cb567a20",
   "metadata": {},
   "source": [
    "### Loading the data locally"
   ]
  },
  {
   "cell_type": "markdown",
   "id": "d52d0253",
   "metadata": {},
   "source": [
    "Use pandas to load the .csv file. Note that the delimitering character is "
   ]
  },
  {
   "cell_type": "raw",
   "id": "b4995a0e",
   "metadata": {},
   "source": [
    "'\\t'"
   ]
  },
  {
   "cell_type": "markdown",
   "id": "d9b12993",
   "metadata": {},
   "source": [
    "rather than"
   ]
  },
  {
   "cell_type": "raw",
   "id": "bdb396d5",
   "metadata": {},
   "source": [
    "','"
   ]
  },
  {
   "cell_type": "code",
   "execution_count": 127,
   "id": "e23fb2e0",
   "metadata": {
    "scrolled": false
   },
   "outputs": [
    {
     "data": {
      "text/html": [
       "<div>\n",
       "<style scoped>\n",
       "    .dataframe tbody tr th:only-of-type {\n",
       "        vertical-align: middle;\n",
       "    }\n",
       "\n",
       "    .dataframe tbody tr th {\n",
       "        vertical-align: top;\n",
       "    }\n",
       "\n",
       "    .dataframe thead th {\n",
       "        text-align: right;\n",
       "    }\n",
       "</style>\n",
       "<table border=\"1\" class=\"dataframe\">\n",
       "  <thead>\n",
       "    <tr style=\"text-align: right;\">\n",
       "      <th></th>\n",
       "      <th>Unnamed: 0.1</th>\n",
       "      <th>Unnamed: 0</th>\n",
       "      <th>_ID</th>\n",
       "      <th>NAME</th>\n",
       "      <th>DEPARTMENT_NAME</th>\n",
       "      <th>TITLE</th>\n",
       "      <th>REGULAR</th>\n",
       "      <th>RETRO</th>\n",
       "      <th>OTHER</th>\n",
       "      <th>OVERTIME</th>\n",
       "      <th>INJURED</th>\n",
       "      <th>QUINN_EDUCATION</th>\n",
       "      <th>TOTAL_EARNINGS</th>\n",
       "      <th>ZIPCODE</th>\n",
       "      <th>YEAR</th>\n",
       "      <th>DETAIL_PAY</th>\n",
       "    </tr>\n",
       "  </thead>\n",
       "  <tbody>\n",
       "    <tr>\n",
       "      <th>0</th>\n",
       "      <td>0</td>\n",
       "      <td>0</td>\n",
       "      <td>2.0</td>\n",
       "      <td>McGowan Jacqueline M.</td>\n",
       "      <td>Boston Police Department</td>\n",
       "      <td>Police Officer</td>\n",
       "      <td>0.000000</td>\n",
       "      <td>0.0</td>\n",
       "      <td>1.252991e+06</td>\n",
       "      <td>0.000000</td>\n",
       "      <td>0.000000</td>\n",
       "      <td>0.000000</td>\n",
       "      <td>1.252991e+06</td>\n",
       "      <td>02129</td>\n",
       "      <td>0.0</td>\n",
       "      <td>0.0</td>\n",
       "    </tr>\n",
       "    <tr>\n",
       "      <th>1</th>\n",
       "      <td>1</td>\n",
       "      <td>1</td>\n",
       "      <td>3.0</td>\n",
       "      <td>Harris Shawn N</td>\n",
       "      <td>Boston Police Department</td>\n",
       "      <td>Police Offc Comm Serv Offc 3 8</td>\n",
       "      <td>69772.101562</td>\n",
       "      <td>0.0</td>\n",
       "      <td>2.127395e+05</td>\n",
       "      <td>82300.867188</td>\n",
       "      <td>30939.240234</td>\n",
       "      <td>25178.060547</td>\n",
       "      <td>4.330738e+05</td>\n",
       "      <td>02130</td>\n",
       "      <td>0.0</td>\n",
       "      <td>12144.0</td>\n",
       "    </tr>\n",
       "    <tr>\n",
       "      <th>2</th>\n",
       "      <td>2</td>\n",
       "      <td>2</td>\n",
       "      <td>4.0</td>\n",
       "      <td>Washington Walter</td>\n",
       "      <td>Boston Police Department</td>\n",
       "      <td>Police Officer</td>\n",
       "      <td>100963.382812</td>\n",
       "      <td>0.0</td>\n",
       "      <td>2.119003e+05</td>\n",
       "      <td>67849.656250</td>\n",
       "      <td>0.000000</td>\n",
       "      <td>10096.549805</td>\n",
       "      <td>3.998259e+05</td>\n",
       "      <td>02368</td>\n",
       "      <td>0.0</td>\n",
       "      <td>9016.0</td>\n",
       "    </tr>\n",
       "    <tr>\n",
       "      <th>3</th>\n",
       "      <td>3</td>\n",
       "      <td>3</td>\n",
       "      <td>5.0</td>\n",
       "      <td>Mosley Jr. Curtis</td>\n",
       "      <td>Boston Police Department</td>\n",
       "      <td>Police Offc Comm Serv Offc 3 8</td>\n",
       "      <td>109858.023438</td>\n",
       "      <td>0.0</td>\n",
       "      <td>1.920975e+05</td>\n",
       "      <td>75938.648438</td>\n",
       "      <td>0.000000</td>\n",
       "      <td>0.000000</td>\n",
       "      <td>3.974442e+05</td>\n",
       "      <td>02301</td>\n",
       "      <td>0.0</td>\n",
       "      <td>19550.0</td>\n",
       "    </tr>\n",
       "    <tr>\n",
       "      <th>4</th>\n",
       "      <td>4</td>\n",
       "      <td>4</td>\n",
       "      <td>6.0</td>\n",
       "      <td>Joseph Martin M</td>\n",
       "      <td>Boston Police Department</td>\n",
       "      <td>Police Sergeant  Det</td>\n",
       "      <td>127626.757812</td>\n",
       "      <td>0.0</td>\n",
       "      <td>1.245245e+05</td>\n",
       "      <td>66433.828125</td>\n",
       "      <td>0.000000</td>\n",
       "      <td>12762.780273</td>\n",
       "      <td>3.814329e+05</td>\n",
       "      <td>02124</td>\n",
       "      <td>0.0</td>\n",
       "      <td>50085.0</td>\n",
       "    </tr>\n",
       "    <tr>\n",
       "      <th>5</th>\n",
       "      <td>5</td>\n",
       "      <td>5</td>\n",
       "      <td>7.0</td>\n",
       "      <td>Demesmin Stanley</td>\n",
       "      <td>Boston Police Department</td>\n",
       "      <td>Police Lieutenant  Det</td>\n",
       "      <td>142466.406250</td>\n",
       "      <td>0.0</td>\n",
       "      <td>1.582050e+04</td>\n",
       "      <td>167509.609375</td>\n",
       "      <td>0.000000</td>\n",
       "      <td>28198.490234</td>\n",
       "      <td>3.786900e+05</td>\n",
       "      <td>02052</td>\n",
       "      <td>0.0</td>\n",
       "      <td>24695.0</td>\n",
       "    </tr>\n",
       "    <tr>\n",
       "      <th>6</th>\n",
       "      <td>6</td>\n",
       "      <td>6</td>\n",
       "      <td>8.0</td>\n",
       "      <td>Smith Sean P</td>\n",
       "      <td>Boston Police Department</td>\n",
       "      <td>Police Lieutenant</td>\n",
       "      <td>143566.781250</td>\n",
       "      <td>0.0</td>\n",
       "      <td>1.678943e+04</td>\n",
       "      <td>109101.429688</td>\n",
       "      <td>0.000000</td>\n",
       "      <td>35891.851562</td>\n",
       "      <td>3.585895e+05</td>\n",
       "      <td>02186</td>\n",
       "      <td>0.0</td>\n",
       "      <td>53240.0</td>\n",
       "    </tr>\n",
       "    <tr>\n",
       "      <th>7</th>\n",
       "      <td>7</td>\n",
       "      <td>11</td>\n",
       "      <td>9.0</td>\n",
       "      <td>Lee Waiman</td>\n",
       "      <td>Boston Police Department</td>\n",
       "      <td>Police Detective</td>\n",
       "      <td>107352.539062</td>\n",
       "      <td>0.0</td>\n",
       "      <td>1.632427e+04</td>\n",
       "      <td>76434.460938</td>\n",
       "      <td>0.000000</td>\n",
       "      <td>26838.109375</td>\n",
       "      <td>3.501834e+05</td>\n",
       "      <td>02134</td>\n",
       "      <td>0.0</td>\n",
       "      <td>123234.0</td>\n",
       "    </tr>\n",
       "    <tr>\n",
       "      <th>8</th>\n",
       "      <td>8</td>\n",
       "      <td>12</td>\n",
       "      <td>10.0</td>\n",
       "      <td>Barrett Thomas E.</td>\n",
       "      <td>Boston Police Department</td>\n",
       "      <td>Police Sergeant  Det</td>\n",
       "      <td>130930.117188</td>\n",
       "      <td>0.0</td>\n",
       "      <td>1.672395e+04</td>\n",
       "      <td>166042.234375</td>\n",
       "      <td>0.000000</td>\n",
       "      <td>32732.730469</td>\n",
       "      <td>3.464290e+05</td>\n",
       "      <td>02132</td>\n",
       "      <td>0.0</td>\n",
       "      <td>0.0</td>\n",
       "    </tr>\n",
       "    <tr>\n",
       "      <th>9</th>\n",
       "      <td>9</td>\n",
       "      <td>13</td>\n",
       "      <td>11.0</td>\n",
       "      <td>Danilecki John H</td>\n",
       "      <td>Boston Police Department</td>\n",
       "      <td>Police Captain</td>\n",
       "      <td>157595.812500</td>\n",
       "      <td>0.0</td>\n",
       "      <td>2.450413e+04</td>\n",
       "      <td>49388.679688</td>\n",
       "      <td>6504.890137</td>\n",
       "      <td>41025.078125</td>\n",
       "      <td>3.438186e+05</td>\n",
       "      <td>02559</td>\n",
       "      <td>0.0</td>\n",
       "      <td>64800.0</td>\n",
       "    </tr>\n",
       "  </tbody>\n",
       "</table>\n",
       "</div>"
      ],
      "text/plain": [
       "   Unnamed: 0.1  Unnamed: 0   _ID                   NAME  \\\n",
       "0             0           0   2.0  McGowan Jacqueline M.   \n",
       "1             1           1   3.0         Harris Shawn N   \n",
       "2             2           2   4.0      Washington Walter   \n",
       "3             3           3   5.0      Mosley Jr. Curtis   \n",
       "4             4           4   6.0        Joseph Martin M   \n",
       "5             5           5   7.0       Demesmin Stanley   \n",
       "6             6           6   8.0           Smith Sean P   \n",
       "7             7          11   9.0             Lee Waiman   \n",
       "8             8          12  10.0      Barrett Thomas E.   \n",
       "9             9          13  11.0       Danilecki John H   \n",
       "\n",
       "            DEPARTMENT_NAME                           TITLE        REGULAR  \\\n",
       "0  Boston Police Department                  Police Officer       0.000000   \n",
       "1  Boston Police Department  Police Offc Comm Serv Offc 3 8   69772.101562   \n",
       "2  Boston Police Department                  Police Officer  100963.382812   \n",
       "3  Boston Police Department  Police Offc Comm Serv Offc 3 8  109858.023438   \n",
       "4  Boston Police Department           Police Sergeant  Det   127626.757812   \n",
       "5  Boston Police Department         Police Lieutenant  Det   142466.406250   \n",
       "6  Boston Police Department               Police Lieutenant  143566.781250   \n",
       "7  Boston Police Department                Police Detective  107352.539062   \n",
       "8  Boston Police Department           Police Sergeant  Det   130930.117188   \n",
       "9  Boston Police Department                  Police Captain  157595.812500   \n",
       "\n",
       "   RETRO         OTHER       OVERTIME       INJURED  QUINN_EDUCATION  \\\n",
       "0    0.0  1.252991e+06       0.000000      0.000000         0.000000   \n",
       "1    0.0  2.127395e+05   82300.867188  30939.240234     25178.060547   \n",
       "2    0.0  2.119003e+05   67849.656250      0.000000     10096.549805   \n",
       "3    0.0  1.920975e+05   75938.648438      0.000000         0.000000   \n",
       "4    0.0  1.245245e+05   66433.828125      0.000000     12762.780273   \n",
       "5    0.0  1.582050e+04  167509.609375      0.000000     28198.490234   \n",
       "6    0.0  1.678943e+04  109101.429688      0.000000     35891.851562   \n",
       "7    0.0  1.632427e+04   76434.460938      0.000000     26838.109375   \n",
       "8    0.0  1.672395e+04  166042.234375      0.000000     32732.730469   \n",
       "9    0.0  2.450413e+04   49388.679688   6504.890137     41025.078125   \n",
       "\n",
       "   TOTAL_EARNINGS ZIPCODE  YEAR  DETAIL_PAY  \n",
       "0    1.252991e+06   02129   0.0         0.0  \n",
       "1    4.330738e+05   02130   0.0     12144.0  \n",
       "2    3.998259e+05   02368   0.0      9016.0  \n",
       "3    3.974442e+05   02301   0.0     19550.0  \n",
       "4    3.814329e+05   02124   0.0     50085.0  \n",
       "5    3.786900e+05   02052   0.0     24695.0  \n",
       "6    3.585895e+05   02186   0.0     53240.0  \n",
       "7    3.501834e+05   02134   0.0    123234.0  \n",
       "8    3.464290e+05   02132   0.0         0.0  \n",
       "9    3.438186e+05   02559   0.0     64800.0  "
      ]
     },
     "execution_count": 127,
     "metadata": {},
     "output_type": "execute_result"
    }
   ],
   "source": [
    "\n",
    "df = pd.read_csv('deliverable/historical_pay.csv',sep='\\t', encoding='utf-8')\n",
    "df.head(10)"
   ]
  },
  {
   "cell_type": "markdown",
   "id": "051daa18",
   "metadata": {},
   "source": [
    "Note the warning regarding standard types in columns 10 and 11. Let's give each of out dataframe columns a datatype to avoid conversions later on."
   ]
  },
  {
   "cell_type": "markdown",
   "id": "6275b6b9",
   "metadata": {},
   "source": [
    "The following columns should always be floats, even in the absence of a value."
   ]
  },
  {
   "cell_type": "code",
   "execution_count": 125,
   "id": "2027edb5",
   "metadata": {},
   "outputs": [],
   "source": [
    "numeric_columns = [  'REGULAR',\n",
    "                     'RETRO',\n",
    "                     'OTHER',\n",
    "                     'OVERTIME',\n",
    "                     'INJURED',\n",
    "                     'QUINN_EDUCATION',\n",
    "                     'TOTAL_EARNINGS',\n",
    "                     'YEAR',\n",
    "                     'DETAIL_PAY']"
   ]
  },
  {
   "cell_type": "code",
   "execution_count": 126,
   "id": "1cffb14f",
   "metadata": {},
   "outputs": [
    {
     "name": "stderr",
     "output_type": "stream",
     "text": [
      "/tmp/ipykernel_14678/3623416058.py:10: SettingWithCopyWarning: \n",
      "A value is trying to be set on a copy of a slice from a DataFrame\n",
      "\n",
      "See the caveats in the documentation: https://pandas.pydata.org/pandas-docs/stable/user_guide/indexing.html#returning-a-view-versus-a-copy\n",
      "  df[column_name][cell]=\"0.0\"\n"
     ]
    }
   ],
   "source": [
    "for column_name in numeric_columns:            \n",
    "    df[column_name]=df[column_name].astype(str)\n",
    "    df[column_name] = df[column_name].str.replace(\" \",\"\")\n",
    "    df[column_name] = df[column_name].str.replace(\"None\",\"0.0\")\n",
    "    #df[column_name]=pd.to_numeric(df[column_name], downcast='float')\n",
    "    #df=df[df[column_name].str.contains('[a-zA-Z]')  == False]\n",
    "    \n",
    "    for cell in range(0, len(df[column_name])):\n",
    "        if(\".\" not in df[column_name][cell] or \"\" not in df[column_name][cell]):\n",
    "            df[column_name][cell]=\"0.0\"\n",
    "            \n",
    "    df[column_name]=pd.to_numeric(df[column_name], downcast='float')\n",
    "    df[column_name]=df[column_name].astype(float)\n",
    "df.head()\n",
    "df.to_csv(\"cleaned.csv\", sep='\\t', encoding='utf-8')"
   ]
  },
  {
   "cell_type": "markdown",
   "id": "aa66b6b2",
   "metadata": {},
   "source": [
    "# Analysis"
   ]
  },
  {
   "cell_type": "markdown",
   "id": "67d9ab76",
   "metadata": {},
   "source": [
    "# Visualization"
   ]
  },
  {
   "cell_type": "code",
   "execution_count": null,
   "id": "30206b42",
   "metadata": {},
   "outputs": [],
   "source": []
  }
 ],
 "metadata": {
  "kernelspec": {
   "display_name": "Python 3 (ipykernel)",
   "language": "python",
   "name": "python3"
  },
  "language_info": {
   "codemirror_mode": {
    "name": "ipython",
    "version": 3
   },
   "file_extension": ".py",
   "mimetype": "text/x-python",
   "name": "python",
   "nbconvert_exporter": "python",
   "pygments_lexer": "ipython3",
   "version": "3.8.10"
  }
 },
 "nbformat": 4,
 "nbformat_minor": 5
}
